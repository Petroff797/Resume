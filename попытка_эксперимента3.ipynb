{
  "cells": [
    {
      "cell_type": "markdown",
      "source": [
        "\n",
        "\n",
        "> # **Исследование и формирование основного отчета по модели машинного обучения почта России**\n",
        "\n"
      ],
      "metadata": {
        "id": "3CFDBGfZTLNq"
      },
      "id": "3CFDBGfZTLNq"
    },
    {
      "cell_type": "markdown",
      "id": "bc2c29a6-cde6-410e-abe0-eebcddb2d764",
      "metadata": {
        "id": "bc2c29a6-cde6-410e-abe0-eebcddb2d764"
      },
      "source": [
        "## Загрузка данных"
      ]
    },
    {
      "cell_type": "markdown",
      "source": [
        "подключим удаленный жесткий диск, на нем хранится датасет с наименованием пересылаемых товаров который формировали при обработке признака mfi_name"
      ],
      "metadata": {
        "id": "WhZTG4hET0iv"
      },
      "id": "WhZTG4hET0iv"
    },
    {
      "cell_type": "code",
      "execution_count": null,
      "id": "atdA9MQC7k_V",
      "metadata": {
        "colab": {
          "base_uri": "https://localhost:8080/"
        },
        "id": "atdA9MQC7k_V",
        "outputId": "c9d29ec3-5708-477b-ce55-17176c767cf0"
      },
      "outputs": [
        {
          "output_type": "stream",
          "name": "stdout",
          "text": [
            "Drive already mounted at /content/drive; to attempt to forcibly remount, call drive.mount(\"/content/drive\", force_remount=True).\n"
          ]
        }
      ],
      "source": [
        "from google.colab import drive\n",
        "drive.mount('/content/drive')"
      ]
    },
    {
      "cell_type": "markdown",
      "source": [
        "Загружаем необходимые библиотеки"
      ],
      "metadata": {
        "id": "r1yl4QOsUSHr"
      },
      "id": "r1yl4QOsUSHr"
    },
    {
      "cell_type": "code",
      "execution_count": null,
      "id": "88fd5a88-cb2e-4be6-87e7-f1816183d415",
      "metadata": {
        "colab": {
          "base_uri": "https://localhost:8080/"
        },
        "id": "88fd5a88-cb2e-4be6-87e7-f1816183d415",
        "outputId": "cbb38596-0e5c-494a-d78c-4ba5002cff6b"
      },
      "outputs": [
        {
          "output_type": "stream",
          "name": "stdout",
          "text": [
            "Looking in indexes: https://pypi.org/simple, https://us-python.pkg.dev/colab-wheels/public/simple/\n",
            "Requirement already satisfied: catboost in /usr/local/lib/python3.7/dist-packages (1.1.1)\n",
            "Requirement already satisfied: six in /usr/local/lib/python3.7/dist-packages (from catboost) (1.15.0)\n",
            "Requirement already satisfied: graphviz in /usr/local/lib/python3.7/dist-packages (from catboost) (0.10.1)\n",
            "Requirement already satisfied: matplotlib in /usr/local/lib/python3.7/dist-packages (from catboost) (3.2.2)\n",
            "Requirement already satisfied: pandas>=0.24.0 in /usr/local/lib/python3.7/dist-packages (from catboost) (1.3.5)\n",
            "Requirement already satisfied: scipy in /usr/local/lib/python3.7/dist-packages (from catboost) (1.7.3)\n",
            "Requirement already satisfied: numpy>=1.16.0 in /usr/local/lib/python3.7/dist-packages (from catboost) (1.21.6)\n",
            "Requirement already satisfied: plotly in /usr/local/lib/python3.7/dist-packages (from catboost) (5.5.0)\n",
            "Requirement already satisfied: python-dateutil>=2.7.3 in /usr/local/lib/python3.7/dist-packages (from pandas>=0.24.0->catboost) (2.8.2)\n",
            "Requirement already satisfied: pytz>=2017.3 in /usr/local/lib/python3.7/dist-packages (from pandas>=0.24.0->catboost) (2022.6)\n",
            "Requirement already satisfied: cycler>=0.10 in /usr/local/lib/python3.7/dist-packages (from matplotlib->catboost) (0.11.0)\n",
            "Requirement already satisfied: kiwisolver>=1.0.1 in /usr/local/lib/python3.7/dist-packages (from matplotlib->catboost) (1.4.4)\n",
            "Requirement already satisfied: pyparsing!=2.0.4,!=2.1.2,!=2.1.6,>=2.0.1 in /usr/local/lib/python3.7/dist-packages (from matplotlib->catboost) (3.0.9)\n",
            "Requirement already satisfied: typing-extensions in /usr/local/lib/python3.7/dist-packages (from kiwisolver>=1.0.1->matplotlib->catboost) (4.1.1)\n",
            "Requirement already satisfied: tenacity>=6.2.0 in /usr/local/lib/python3.7/dist-packages (from plotly->catboost) (8.1.0)\n"
          ]
        },
        {
          "output_type": "stream",
          "name": "stderr",
          "text": [
            "/usr/local/lib/python3.7/dist-packages/ipykernel_launcher.py:16: TqdmDeprecationWarning: This function will be removed in tqdm==5.0.0\n",
            "Please use `tqdm.notebook.*` instead of `tqdm._tqdm_notebook.*`\n",
            "  app.launch_new_instance()\n"
          ]
        }
      ],
      "source": [
        "!pip install catboost\n",
        "import pandas as pd\n",
        "import seaborn as sns\n",
        "import matplotlib.pyplot as plt\n",
        "import numpy as np\n",
        "import catboost as cb\n",
        "from catboost import cv\n",
        "from catboost import CatBoostClassifier as CBclass\n",
        "%matplotlib inline\n",
        "import gc\n",
        "import os\n",
        "\n",
        "\n",
        "import datetime\n",
        "import re\n",
        "from tqdm._tqdm_notebook import tqdm_notebook\n",
        "tqdm_notebook.pandas()\n",
        "from sklearn.model_selection import train_test_split\n",
        "from sklearn.utils import shuffle"
      ]
    },
    {
      "cell_type": "markdown",
      "id": "d23f0994-405d-4d7e-b789-6dafdfe6dcdb",
      "metadata": {
        "id": "d23f0994-405d-4d7e-b789-6dafdfe6dcdb"
      },
      "source": [
        "подключили библиотеки, теперь загружаем датасет, который является тренировочный с заранее расшаренного жесткого диска (читается с colab)"
      ]
    },
    {
      "cell_type": "code",
      "execution_count": null,
      "id": "cbd38fab-0033-4ffa-8189-313f14e46a6b",
      "metadata": {
        "id": "cbd38fab-0033-4ffa-8189-313f14e46a6b"
      },
      "outputs": [],
      "source": [
        "! [ ! -s \"./train_dataset_train.csv\" ] && curl -L -o train_dataset_train.csv \"https://drive.google.com/uc?export=download&confirm=no_antivirus&id=1qVRFpW_mq-A--xT26ds78APDjRquzrVB\""
      ]
    },
    {
      "cell_type": "markdown",
      "id": "69af59ce-6f2f-4fbc-b919-a8844654c6e8",
      "metadata": {
        "id": "69af59ce-6f2f-4fbc-b919-a8844654c6e8"
      },
      "source": [
        "скачаем с открытых источникова именно с сайта почты России классификатор индексов и загрузим также в расшереный диск (читается с colab)"
      ]
    },
    {
      "cell_type": "code",
      "execution_count": null,
      "id": "23adfe22-af7f-459a-9c0e-5f4b075da046",
      "metadata": {
        "id": "23adfe22-af7f-459a-9c0e-5f4b075da046"
      },
      "outputs": [],
      "source": [
        "! [ ! -s \"./PIndx20.csv\" ] && curl -L -o PIndx20.csv \"https://drive.google.com/uc?export=download&confirm=no_antivirus&id=1inuDJ_CRsWIUy_14It3iey2RlCqq3_6b\""
      ]
    },
    {
      "cell_type": "code",
      "execution_count": null,
      "id": "01eb0fbf-9c57-4723-adeb-d758e8784078",
      "metadata": {
        "id": "01eb0fbf-9c57-4723-adeb-d758e8784078"
      },
      "outputs": [],
      "source": [
        "df_index = pd.read_csv(\"/content/PIndx20.csv\", sep=\";\")"
      ]
    },
    {
      "cell_type": "markdown",
      "source": [
        "Подгружаем индексы"
      ],
      "metadata": {
        "id": "doGpp84MWWl7"
      },
      "id": "doGpp84MWWl7"
    },
    {
      "cell_type": "code",
      "execution_count": null,
      "id": "9fa43bb4-3207-4dfe-ab39-a7e7fc1c651a",
      "metadata": {
        "colab": {
          "base_uri": "https://localhost:8080/"
        },
        "id": "9fa43bb4-3207-4dfe-ab39-a7e7fc1c651a",
        "outputId": "a8b0c873-a39e-41b1-8b66-ca62546ca355"
      },
      "outputs": [
        {
          "output_type": "stream",
          "name": "stderr",
          "text": [
            "/usr/local/lib/python3.7/dist-packages/IPython/core/interactiveshell.py:3326: DtypeWarning: Columns (2) have mixed types.Specify dtype option on import or set low_memory=False.\n",
            "  exec(code_obj, self.user_global_ns, self.user_ns)\n"
          ]
        }
      ],
      "source": [
        "df = pd.read_csv(\"/content/train_dataset_train.csv\")"
      ]
    },
    {
      "cell_type": "markdown",
      "source": [
        "подгружаем тестовый датасет"
      ],
      "metadata": {
        "id": "6Y6GLBAQWcZ-"
      },
      "id": "6Y6GLBAQWcZ-"
    },
    {
      "cell_type": "code",
      "execution_count": null,
      "id": "J1dC0rAjHy_G",
      "metadata": {
        "id": "J1dC0rAjHy_G"
      },
      "outputs": [],
      "source": [
        "df_clust_mfi = pd.read_csv(\"/content/drive/MyDrive/dataset_pochta/file_train_words_clust.csv\")"
      ]
    },
    {
      "cell_type": "markdown",
      "source": [
        "Подгрузили то что у нас получилось при обработке наименований посылок"
      ],
      "metadata": {
        "id": "Zm-c3DajWgxJ"
      },
      "id": "Zm-c3DajWgxJ"
    },
    {
      "cell_type": "code",
      "execution_count": null,
      "id": "z0lj-0mKHzYF",
      "metadata": {
        "id": "z0lj-0mKHzYF"
      },
      "outputs": [],
      "source": [
        "df['name_mfi'] = df['name_mfi'].str.lower()\n",
        "df[\"name_mfi\"] = df[\"name_mfi\"].fillna(0)\n",
        "df.loc[df['name_mfi'] == '0', 'name_mfi'] = 'no datum'\n",
        "df['mfi_clust'] = df['name_mfi'].map(df_clust_mfi.set_index('index_id.1')['cluster'])\n",
        "df['mfi_lang_lemm'] = df['name_mfi'].map(df_clust_mfi.set_index('index_id.1')['name_mfi_lemm'])\n",
        "df['mfi_clust'] = df['mfi_clust'].astype('str')\n",
        "df['mfi_lang_lemm'] = df[\"mfi_lang_lemm\"].fillna(df['name_mfi'])"
      ]
    },
    {
      "cell_type": "markdown",
      "source": [
        "Соединим тестовый датасет и образуем у него новые признаки\n",
        "\n",
        "- ['mfi_clust']  = признак автоматического категорирования +- отражает категории товаров\n",
        "- mfi_lang_lemm = признак лемматизированых и переведенных товаров\n"
      ],
      "metadata": {
        "id": "S98KV6nbWs5V"
      },
      "id": "S98KV6nbWs5V"
    },
    {
      "cell_type": "markdown",
      "source": [
        "Теперь поработаем с датафреймом индексов"
      ],
      "metadata": {
        "id": "FB54ey0aXjJJ"
      },
      "id": "FB54ey0aXjJJ"
    },
    {
      "cell_type": "code",
      "execution_count": null,
      "id": "GENgEXX3vfmn",
      "metadata": {
        "colab": {
          "base_uri": "https://localhost:8080/"
        },
        "id": "GENgEXX3vfmn",
        "outputId": "d1f0f65a-2525-445d-ec93-c58cbff16088"
      },
      "outputs": [
        {
          "output_type": "stream",
          "name": "stdout",
          "text": [
            "<class 'pandas.core.frame.DataFrame'>\n",
            "RangeIndex: 58005 entries, 0 to 58004\n",
            "Data columns (total 11 columns):\n",
            " #   Column    Non-Null Count  Dtype  \n",
            "---  ------    --------------  -----  \n",
            " 0   INDEX     58005 non-null  int64  \n",
            " 1   OPSNAME   58005 non-null  object \n",
            " 2   OPSTYPE   58005 non-null  object \n",
            " 3   OPSSUBM   57918 non-null  float64\n",
            " 4   REGION    57446 non-null  object \n",
            " 5   AUTONOM   560 non-null    object \n",
            " 6   AREA      37612 non-null  object \n",
            " 7   CITY      51842 non-null  object \n",
            " 8   CITY_1    2102 non-null   object \n",
            " 9   ACTDATE   58005 non-null  object \n",
            " 10  INDEXOLD  0 non-null      float64\n",
            "dtypes: float64(2), int64(1), object(8)\n",
            "memory usage: 4.9+ MB\n",
            "0        4309\n",
            "1        3913\n",
            "2        2000\n",
            "3         965\n",
            "4        1027\n",
            "         ... \n",
            "58000     616\n",
            "58001     616\n",
            "58002     616\n",
            "58003     616\n",
            "58004     613\n",
            "Name: LifeDate, Length: 58005, dtype: int64\n"
          ]
        }
      ],
      "source": [
        "df_index.info()\n",
        "df_index['date'] = pd.to_datetime(df_index['ACTDATE'], format='%d.%m.%Y')\n",
        "c = '08.11.2022'\n",
        "df_index['st'] = pd.to_datetime(c, format='%d.%m.%Y')\n",
        "df_index['LifeDate'] =  (df_index['st'] - df_index ['date']).dt.days\n",
        "print(df_index['LifeDate'])"
      ]
    },
    {
      "cell_type": "markdown",
      "source": [
        "создадим новый признак - количество дней с момента последней актуализации информации, есть в общедоступном справочнике индексов"
      ],
      "metadata": {
        "id": "IP2ovFdZX3Af"
      },
      "id": "IP2ovFdZX3Af"
    },
    {
      "cell_type": "code",
      "execution_count": null,
      "id": "J0Hd_yAMvtT1",
      "metadata": {
        "colab": {
          "base_uri": "https://localhost:8080/"
        },
        "id": "J0Hd_yAMvtT1",
        "outputId": "60feedca-f0b8-45fa-ff4b-8d51e4142dc3"
      },
      "outputs": [
        {
          "output_type": "execute_result",
          "data": {
            "text/plain": [
              "43"
            ]
          },
          "metadata": {},
          "execution_count": 10
        }
      ],
      "source": [
        "del df_clust_mfi\n",
        "gc.collect()"
      ]
    },
    {
      "cell_type": "markdown",
      "id": "c55ce281-68dc-447e-b2a4-f413a94f73ba",
      "metadata": {
        "id": "c55ce281-68dc-447e-b2a4-f413a94f73ba"
      },
      "source": [
        "## Рассмотрим датасет по ближе"
      ]
    },
    {
      "cell_type": "markdown",
      "source": [
        "\n",
        "\n",
        "### применим исправления к Датасету\n",
        "\n",
        "\n",
        "\n",
        "\n",
        "\n"
      ],
      "metadata": {
        "id": "eCVc9y3T6D2L"
      },
      "id": "eCVc9y3T6D2L"
    },
    {
      "cell_type": "markdown",
      "id": "8065cb70-9858-443e-8cb5-16c861c44ac4",
      "metadata": {
        "id": "8065cb70-9858-443e-8cb5-16c861c44ac4"
      },
      "source": [
        "можем подружить датасеты через индекс операторов и заодно узнаем город местонахождения почтового отделения"
      ]
    },
    {
      "cell_type": "code",
      "execution_count": null,
      "id": "BTBW2QIe8i50",
      "metadata": {
        "id": "BTBW2QIe8i50"
      },
      "outputs": [],
      "source": [
        "def obrabotka(df):\n",
        "    global df_index # обьявим глобальной переменной датасет скачанный с почты россии, возьмем оттуда время с последней актуализации и город\n",
        "    df[\"index_oper\"] = pd.to_numeric(df[\"index_oper\"], errors='coerce') # при этом пропущенные значения ставим 0\n",
        "    df[\"index_oper\"] = df[\"index_oper\"].fillna(0)\n",
        "\n",
        "\n",
        "    a = ['weight',  'transport_pay', 'weight_mfi', 'price_mfi', 'dist_qty_oper_login_1', 'total_qty_oper_login_1',\n",
        "         'total_qty_oper_login_0', 'total_qty_over_index_and_type', 'total_qty_over_index',  'index_oper', 'priority','class','mailtype','mailctg', 'mailrank', 'directctg','postmark','is_wrong_sndr_name',\n",
        "     'is_wrong_rcpn_name', 'is_wrong_phone_number', 'is_wrong_address']\n",
        "    for i in a:\n",
        "        df[i] = df[i].astype('int') # цифровые характеристики переводим из float в integer\n",
        "\n",
        "\n",
        "    df.loc[df[\"weight\"] == 0, 'weight'] = df[\"weight_mfi\"] #возьмем информацию по весу от производителя. обределенную неизвестную часть точно заместим\n",
        "    list_of_index = list(df.loc[df['index_oper'] == 0].groupby('total_qty_oper_login_0').sum().index)\n",
        "    for i in list_of_index :\n",
        "        df.loc[(df['index_oper'] == 0.0) & (df['total_qty_oper_login_0'] == i),'index_oper'] = list_of_index.index(i)+1\n",
        "\n",
        "    df['city'] = df['index_oper'].map(df_index.set_index('INDEX')['REGION']) # введем переменную, отражающую регион, информацию возьмем со справочника скачанного на почте россии\n",
        "    df['OPSNAME'] = df['index_oper'].map(df_index.set_index('INDEX')['OPSNAME'])# добавим столбец с нименованием отделения почтовой связи, т.к.\n",
        "    df['actlife'] = df['index_oper'].map(df_index.set_index('INDEX')['LifeDate'])# добавим информацию о последней актуализации данных (в днях между сроком актуализации (взяли со справочника) и 8 ноября сего года, как раз когда я формировал эту функцию)\n",
        "\n",
        "\n",
        "    df[\"actlife\"] = pd.to_numeric(df[\"actlife\"], errors='coerce') # при этом пропущенные значения последней актуализации данных ставим 0\n",
        "    df[\"actlife\"] = df[\"actlife\"].fillna(0)\n",
        "\n",
        "\n",
        "\n",
        "    df['city'] = df['city'].fillna(df['OPSNAME'])# заместим пропущеные значения региона названием отделения почтовой связи\n",
        "    df = df.drop(['OPSNAME'], axis=1)# удалим название отделения почтовой связи\n",
        "    df['city'] = df['city'].fillna('no_data')\n",
        "\n",
        "\n",
        "\n",
        "    df = df.drop(['name_mfi'], axis=1)\n",
        "\n",
        "    df.loc[df[\"is_in_yandex\"] == '0', \"is_in_yandex\"] = 'N' #пропущенные значения заместим n, т.к. 0 - отсутствие значения следовательно по атрибутам задания тестового датасета понятно\n",
        "    df.loc[df[\"is_privatecategory\"] == '0', \"is_privatecategory\"] = 'N'\n",
        "\n",
        "    df.loc[df[\"mailctg\"] == -1, \"mailctg\"] = 1 # в соответствии с информацией с сайта почты россии категориии почтовых отправлений в отрицательно диапазоне нет. соответственно наиболее вероятно что была допущена ошибка\n",
        "    #df = df.fillna(0)\n",
        "    df['actlife'] = df['actlife'].astype('int')\n",
        "    df['wrong'] = df['is_wrong_sndr_name'] + df['is_wrong_rcpn_name']+ df['is_wrong_phone_number'] + df['is_wrong_address'] # Добавим суммарный вес ошибки в доставке\n",
        "    df['total_qty_over_type'] = df['total_qty_over_index_and_type'] -  df['total_qty_over_index'] #добавим разность между операторам\n",
        "    #c = ['class','postmark', 'mailrank', 'mailtype','index_oper', 'priority','wrong','mailtype','mailctg', 'directctg'] #обьявим категорированные строки\n",
        "    #for i in c:\n",
        "    #    df[i] = df[i].astype('str')\n",
        "    return df\n"
      ]
    },
    {
      "cell_type": "markdown",
      "source": [
        "обрабатываем массив"
      ],
      "metadata": {
        "id": "gRtnpDy8ZhOM"
      },
      "id": "gRtnpDy8ZhOM"
    },
    {
      "cell_type": "code",
      "execution_count": null,
      "id": "LadbN_MRjkdJ",
      "metadata": {
        "id": "LadbN_MRjkdJ",
        "colab": {
          "base_uri": "https://localhost:8080/"
        },
        "outputId": "51d71c33-3c7e-48c5-9f8d-a15c89c00d85"
      },
      "outputs": [
        {
          "output_type": "execute_result",
          "data": {
            "text/plain": [
              "79"
            ]
          },
          "metadata": {},
          "execution_count": 12
        }
      ],
      "source": [
        "df = obrabotka(df)\n",
        "gc.collect()"
      ]
    },
    {
      "cell_type": "code",
      "execution_count": null,
      "id": "5ld_G7DBrtJW",
      "metadata": {
        "colab": {
          "base_uri": "https://localhost:8080/"
        },
        "id": "5ld_G7DBrtJW",
        "outputId": "54bb9ec4-3056-4664-de28-acc17281315a"
      },
      "outputs": [
        {
          "output_type": "stream",
          "name": "stdout",
          "text": [
            "<class 'pandas.core.frame.DataFrame'>\n",
            "RangeIndex: 6000000 entries, 0 to 5999999\n",
            "Data columns (total 34 columns):\n",
            " #   Column                         Dtype \n",
            "---  ------                         ----- \n",
            " 0   id                             int64 \n",
            " 1   oper_type + oper_attr          object\n",
            " 2   index_oper                     int64 \n",
            " 3   type                           object\n",
            " 4   priority                       int64 \n",
            " 5   is_privatecategory             object\n",
            " 6   class                          int64 \n",
            " 7   is_in_yandex                   object\n",
            " 8   is_return                      object\n",
            " 9   weight                         int64 \n",
            " 10  mailtype                       int64 \n",
            " 11  mailctg                        int64 \n",
            " 12  mailrank                       int64 \n",
            " 13  directctg                      int64 \n",
            " 14  transport_pay                  int64 \n",
            " 15  postmark                       int64 \n",
            " 16  weight_mfi                     int64 \n",
            " 17  price_mfi                      int64 \n",
            " 18  dist_qty_oper_login_1          int64 \n",
            " 19  total_qty_oper_login_1         int64 \n",
            " 20  total_qty_oper_login_0         int64 \n",
            " 21  total_qty_over_index_and_type  int64 \n",
            " 22  total_qty_over_index           int64 \n",
            " 23  is_wrong_sndr_name             int64 \n",
            " 24  is_wrong_rcpn_name             int64 \n",
            " 25  is_wrong_phone_number          int64 \n",
            " 26  is_wrong_address               int64 \n",
            " 27  label                          int64 \n",
            " 28  mfi_clust                      object\n",
            " 29  mfi_lang_lemm                  object\n",
            " 30  city                           object\n",
            " 31  actlife                        int64 \n",
            " 32  wrong                          int64 \n",
            " 33  total_qty_over_type            int64 \n",
            "dtypes: int64(26), object(8)\n",
            "memory usage: 1.5+ GB\n"
          ]
        },
        {
          "output_type": "display_data",
          "data": {
            "text/plain": [
              "              id oper_type + oper_attr  index_oper     type  priority  \\\n",
              "0        6818780               1043_-1      628629  Участок      7503   \n",
              "1        9907176               1023_-1      102976     ММПО      7503   \n",
              "2        3304275               1018_-1      620962      Цех      7503   \n",
              "3        9020937               1019_-1      344964      Цех      7503   \n",
              "4        3082311               1020_-1      629819  Участок      7503   \n",
              "...          ...                   ...         ...      ...       ...   \n",
              "5999995  9958614               1022_-1      102976     ММПО      7503   \n",
              "5999996  2234489               1022_-1      241963      Цех      7503   \n",
              "5999997  4304572               1041_-1      102971      Цех      7506   \n",
              "5999998  6550634               1018_-1      102152      Цех      7506   \n",
              "5999999  6423388                   8_2      140531     СОПС      7503   \n",
              "\n",
              "        is_privatecategory  class is_in_yandex is_return  weight  ...  \\\n",
              "0                        N      0            Y         N      87  ...   \n",
              "1                        N      0            N         N     107  ...   \n",
              "2                        N      0            Y         N      50  ...   \n",
              "3                        N      0            Y         N     416  ...   \n",
              "4                        N      0            Y         N     795  ...   \n",
              "...                    ...    ...          ...       ...     ...  ...   \n",
              "5999995                  N      0            N         N      25  ...   \n",
              "5999996                  N      0            Y         N      83  ...   \n",
              "5999997                  N      0            N         N    1700  ...   \n",
              "5999998                  N      0            N         N     269  ...   \n",
              "5999999                  N      4            Y         N      41  ...   \n",
              "\n",
              "         is_wrong_rcpn_name  is_wrong_phone_number  is_wrong_address  label  \\\n",
              "0                         0                      0                 0      0   \n",
              "1                         0                      0                 0      0   \n",
              "2                         1                      0                 0      0   \n",
              "3                         0                      0                 0      0   \n",
              "4                         0                      0                 0      0   \n",
              "...                     ...                    ...               ...    ...   \n",
              "5999995                   0                      1                 0      0   \n",
              "5999996                   0                      0                 0      0   \n",
              "5999997                   0                      0                 0      0   \n",
              "5999998                   1                      0                 0      0   \n",
              "5999999                   0                      0                 0      0   \n",
              "\n",
              "         mfi_clust                             mfi_lang_lemm  \\\n",
              "0              2.0                              fishhook usb   \n",
              "1              3.0       screen protector case q b case b db   \n",
              "2              4.0  pendant necklace ring for woman necklace   \n",
              "3              2.0                    motorcycle signal lamp   \n",
              "4              2.0                                  backpack   \n",
              "...            ...                                       ...   \n",
              "5999995        2.0                                 key chain   \n",
              "5999996        2.0                                      doll   \n",
              "5999997        2.0                               down jacket   \n",
              "5999998        nan                                  no datum   \n",
              "5999999       31.0            jewelry bead jewelry component   \n",
              "\n",
              "                         city  actlife  wrong  total_qty_over_type  \n",
              "0          НИЖНЕВАРТОВСК УОСП     1889      0             -7511770  \n",
              "1                      МОСКВА      950      0             -4644213  \n",
              "2        СВЕРДЛОВСКАЯ ОБЛАСТЬ     4526      1            -46228711  \n",
              "3          РОСТОВСКАЯ ОБЛАСТЬ     4526      0            -16848126  \n",
              "4               НОЯБРЬСК УООП     1884      0             -4374356  \n",
              "...                       ...      ...    ...                  ...  \n",
              "5999995                МОСКВА      950      1             -7705047  \n",
              "5999996      БРЯНСКАЯ ОБЛАСТЬ     4526      0            -13670585  \n",
              "5999997                МОСКВА      950      0            -14968387  \n",
              "5999998                МОСКВА     5683      1            -19924768  \n",
              "5999999    МОСКОВСКАЯ ОБЛАСТЬ      929      0               -15344  \n",
              "\n",
              "[6000000 rows x 34 columns]"
            ],
            "text/html": [
              "\n",
              "  <div id=\"df-39b7aaf5-20ee-472a-bc2a-f3952a7684e1\">\n",
              "    <div class=\"colab-df-container\">\n",
              "      <div>\n",
              "<style scoped>\n",
              "    .dataframe tbody tr th:only-of-type {\n",
              "        vertical-align: middle;\n",
              "    }\n",
              "\n",
              "    .dataframe tbody tr th {\n",
              "        vertical-align: top;\n",
              "    }\n",
              "\n",
              "    .dataframe thead th {\n",
              "        text-align: right;\n",
              "    }\n",
              "</style>\n",
              "<table border=\"1\" class=\"dataframe\">\n",
              "  <thead>\n",
              "    <tr style=\"text-align: right;\">\n",
              "      <th></th>\n",
              "      <th>id</th>\n",
              "      <th>oper_type + oper_attr</th>\n",
              "      <th>index_oper</th>\n",
              "      <th>type</th>\n",
              "      <th>priority</th>\n",
              "      <th>is_privatecategory</th>\n",
              "      <th>class</th>\n",
              "      <th>is_in_yandex</th>\n",
              "      <th>is_return</th>\n",
              "      <th>weight</th>\n",
              "      <th>...</th>\n",
              "      <th>is_wrong_rcpn_name</th>\n",
              "      <th>is_wrong_phone_number</th>\n",
              "      <th>is_wrong_address</th>\n",
              "      <th>label</th>\n",
              "      <th>mfi_clust</th>\n",
              "      <th>mfi_lang_lemm</th>\n",
              "      <th>city</th>\n",
              "      <th>actlife</th>\n",
              "      <th>wrong</th>\n",
              "      <th>total_qty_over_type</th>\n",
              "    </tr>\n",
              "  </thead>\n",
              "  <tbody>\n",
              "    <tr>\n",
              "      <th>0</th>\n",
              "      <td>6818780</td>\n",
              "      <td>1043_-1</td>\n",
              "      <td>628629</td>\n",
              "      <td>Участок</td>\n",
              "      <td>7503</td>\n",
              "      <td>N</td>\n",
              "      <td>0</td>\n",
              "      <td>Y</td>\n",
              "      <td>N</td>\n",
              "      <td>87</td>\n",
              "      <td>...</td>\n",
              "      <td>0</td>\n",
              "      <td>0</td>\n",
              "      <td>0</td>\n",
              "      <td>0</td>\n",
              "      <td>2.0</td>\n",
              "      <td>fishhook usb</td>\n",
              "      <td>НИЖНЕВАРТОВСК УОСП</td>\n",
              "      <td>1889</td>\n",
              "      <td>0</td>\n",
              "      <td>-7511770</td>\n",
              "    </tr>\n",
              "    <tr>\n",
              "      <th>1</th>\n",
              "      <td>9907176</td>\n",
              "      <td>1023_-1</td>\n",
              "      <td>102976</td>\n",
              "      <td>ММПО</td>\n",
              "      <td>7503</td>\n",
              "      <td>N</td>\n",
              "      <td>0</td>\n",
              "      <td>N</td>\n",
              "      <td>N</td>\n",
              "      <td>107</td>\n",
              "      <td>...</td>\n",
              "      <td>0</td>\n",
              "      <td>0</td>\n",
              "      <td>0</td>\n",
              "      <td>0</td>\n",
              "      <td>3.0</td>\n",
              "      <td>screen protector case q b case b db</td>\n",
              "      <td>МОСКВА</td>\n",
              "      <td>950</td>\n",
              "      <td>0</td>\n",
              "      <td>-4644213</td>\n",
              "    </tr>\n",
              "    <tr>\n",
              "      <th>2</th>\n",
              "      <td>3304275</td>\n",
              "      <td>1018_-1</td>\n",
              "      <td>620962</td>\n",
              "      <td>Цех</td>\n",
              "      <td>7503</td>\n",
              "      <td>N</td>\n",
              "      <td>0</td>\n",
              "      <td>Y</td>\n",
              "      <td>N</td>\n",
              "      <td>50</td>\n",
              "      <td>...</td>\n",
              "      <td>1</td>\n",
              "      <td>0</td>\n",
              "      <td>0</td>\n",
              "      <td>0</td>\n",
              "      <td>4.0</td>\n",
              "      <td>pendant necklace ring for woman necklace</td>\n",
              "      <td>СВЕРДЛОВСКАЯ ОБЛАСТЬ</td>\n",
              "      <td>4526</td>\n",
              "      <td>1</td>\n",
              "      <td>-46228711</td>\n",
              "    </tr>\n",
              "    <tr>\n",
              "      <th>3</th>\n",
              "      <td>9020937</td>\n",
              "      <td>1019_-1</td>\n",
              "      <td>344964</td>\n",
              "      <td>Цех</td>\n",
              "      <td>7503</td>\n",
              "      <td>N</td>\n",
              "      <td>0</td>\n",
              "      <td>Y</td>\n",
              "      <td>N</td>\n",
              "      <td>416</td>\n",
              "      <td>...</td>\n",
              "      <td>0</td>\n",
              "      <td>0</td>\n",
              "      <td>0</td>\n",
              "      <td>0</td>\n",
              "      <td>2.0</td>\n",
              "      <td>motorcycle signal lamp</td>\n",
              "      <td>РОСТОВСКАЯ ОБЛАСТЬ</td>\n",
              "      <td>4526</td>\n",
              "      <td>0</td>\n",
              "      <td>-16848126</td>\n",
              "    </tr>\n",
              "    <tr>\n",
              "      <th>4</th>\n",
              "      <td>3082311</td>\n",
              "      <td>1020_-1</td>\n",
              "      <td>629819</td>\n",
              "      <td>Участок</td>\n",
              "      <td>7503</td>\n",
              "      <td>N</td>\n",
              "      <td>0</td>\n",
              "      <td>Y</td>\n",
              "      <td>N</td>\n",
              "      <td>795</td>\n",
              "      <td>...</td>\n",
              "      <td>0</td>\n",
              "      <td>0</td>\n",
              "      <td>0</td>\n",
              "      <td>0</td>\n",
              "      <td>2.0</td>\n",
              "      <td>backpack</td>\n",
              "      <td>НОЯБРЬСК УООП</td>\n",
              "      <td>1884</td>\n",
              "      <td>0</td>\n",
              "      <td>-4374356</td>\n",
              "    </tr>\n",
              "    <tr>\n",
              "      <th>...</th>\n",
              "      <td>...</td>\n",
              "      <td>...</td>\n",
              "      <td>...</td>\n",
              "      <td>...</td>\n",
              "      <td>...</td>\n",
              "      <td>...</td>\n",
              "      <td>...</td>\n",
              "      <td>...</td>\n",
              "      <td>...</td>\n",
              "      <td>...</td>\n",
              "      <td>...</td>\n",
              "      <td>...</td>\n",
              "      <td>...</td>\n",
              "      <td>...</td>\n",
              "      <td>...</td>\n",
              "      <td>...</td>\n",
              "      <td>...</td>\n",
              "      <td>...</td>\n",
              "      <td>...</td>\n",
              "      <td>...</td>\n",
              "      <td>...</td>\n",
              "    </tr>\n",
              "    <tr>\n",
              "      <th>5999995</th>\n",
              "      <td>9958614</td>\n",
              "      <td>1022_-1</td>\n",
              "      <td>102976</td>\n",
              "      <td>ММПО</td>\n",
              "      <td>7503</td>\n",
              "      <td>N</td>\n",
              "      <td>0</td>\n",
              "      <td>N</td>\n",
              "      <td>N</td>\n",
              "      <td>25</td>\n",
              "      <td>...</td>\n",
              "      <td>0</td>\n",
              "      <td>1</td>\n",
              "      <td>0</td>\n",
              "      <td>0</td>\n",
              "      <td>2.0</td>\n",
              "      <td>key chain</td>\n",
              "      <td>МОСКВА</td>\n",
              "      <td>950</td>\n",
              "      <td>1</td>\n",
              "      <td>-7705047</td>\n",
              "    </tr>\n",
              "    <tr>\n",
              "      <th>5999996</th>\n",
              "      <td>2234489</td>\n",
              "      <td>1022_-1</td>\n",
              "      <td>241963</td>\n",
              "      <td>Цех</td>\n",
              "      <td>7503</td>\n",
              "      <td>N</td>\n",
              "      <td>0</td>\n",
              "      <td>Y</td>\n",
              "      <td>N</td>\n",
              "      <td>83</td>\n",
              "      <td>...</td>\n",
              "      <td>0</td>\n",
              "      <td>0</td>\n",
              "      <td>0</td>\n",
              "      <td>0</td>\n",
              "      <td>2.0</td>\n",
              "      <td>doll</td>\n",
              "      <td>БРЯНСКАЯ ОБЛАСТЬ</td>\n",
              "      <td>4526</td>\n",
              "      <td>0</td>\n",
              "      <td>-13670585</td>\n",
              "    </tr>\n",
              "    <tr>\n",
              "      <th>5999997</th>\n",
              "      <td>4304572</td>\n",
              "      <td>1041_-1</td>\n",
              "      <td>102971</td>\n",
              "      <td>Цех</td>\n",
              "      <td>7506</td>\n",
              "      <td>N</td>\n",
              "      <td>0</td>\n",
              "      <td>N</td>\n",
              "      <td>N</td>\n",
              "      <td>1700</td>\n",
              "      <td>...</td>\n",
              "      <td>0</td>\n",
              "      <td>0</td>\n",
              "      <td>0</td>\n",
              "      <td>0</td>\n",
              "      <td>2.0</td>\n",
              "      <td>down jacket</td>\n",
              "      <td>МОСКВА</td>\n",
              "      <td>950</td>\n",
              "      <td>0</td>\n",
              "      <td>-14968387</td>\n",
              "    </tr>\n",
              "    <tr>\n",
              "      <th>5999998</th>\n",
              "      <td>6550634</td>\n",
              "      <td>1018_-1</td>\n",
              "      <td>102152</td>\n",
              "      <td>Цех</td>\n",
              "      <td>7506</td>\n",
              "      <td>N</td>\n",
              "      <td>0</td>\n",
              "      <td>N</td>\n",
              "      <td>N</td>\n",
              "      <td>269</td>\n",
              "      <td>...</td>\n",
              "      <td>1</td>\n",
              "      <td>0</td>\n",
              "      <td>0</td>\n",
              "      <td>0</td>\n",
              "      <td>nan</td>\n",
              "      <td>no datum</td>\n",
              "      <td>МОСКВА</td>\n",
              "      <td>5683</td>\n",
              "      <td>1</td>\n",
              "      <td>-19924768</td>\n",
              "    </tr>\n",
              "    <tr>\n",
              "      <th>5999999</th>\n",
              "      <td>6423388</td>\n",
              "      <td>8_2</td>\n",
              "      <td>140531</td>\n",
              "      <td>СОПС</td>\n",
              "      <td>7503</td>\n",
              "      <td>N</td>\n",
              "      <td>4</td>\n",
              "      <td>Y</td>\n",
              "      <td>N</td>\n",
              "      <td>41</td>\n",
              "      <td>...</td>\n",
              "      <td>0</td>\n",
              "      <td>0</td>\n",
              "      <td>0</td>\n",
              "      <td>0</td>\n",
              "      <td>31.0</td>\n",
              "      <td>jewelry bead jewelry component</td>\n",
              "      <td>МОСКОВСКАЯ ОБЛАСТЬ</td>\n",
              "      <td>929</td>\n",
              "      <td>0</td>\n",
              "      <td>-15344</td>\n",
              "    </tr>\n",
              "  </tbody>\n",
              "</table>\n",
              "<p>6000000 rows × 34 columns</p>\n",
              "</div>\n",
              "      <button class=\"colab-df-convert\" onclick=\"convertToInteractive('df-39b7aaf5-20ee-472a-bc2a-f3952a7684e1')\"\n",
              "              title=\"Convert this dataframe to an interactive table.\"\n",
              "              style=\"display:none;\">\n",
              "        \n",
              "  <svg xmlns=\"http://www.w3.org/2000/svg\" height=\"24px\"viewBox=\"0 0 24 24\"\n",
              "       width=\"24px\">\n",
              "    <path d=\"M0 0h24v24H0V0z\" fill=\"none\"/>\n",
              "    <path d=\"M18.56 5.44l.94 2.06.94-2.06 2.06-.94-2.06-.94-.94-2.06-.94 2.06-2.06.94zm-11 1L8.5 8.5l.94-2.06 2.06-.94-2.06-.94L8.5 2.5l-.94 2.06-2.06.94zm10 10l.94 2.06.94-2.06 2.06-.94-2.06-.94-.94-2.06-.94 2.06-2.06.94z\"/><path d=\"M17.41 7.96l-1.37-1.37c-.4-.4-.92-.59-1.43-.59-.52 0-1.04.2-1.43.59L10.3 9.45l-7.72 7.72c-.78.78-.78 2.05 0 2.83L4 21.41c.39.39.9.59 1.41.59.51 0 1.02-.2 1.41-.59l7.78-7.78 2.81-2.81c.8-.78.8-2.07 0-2.86zM5.41 20L4 18.59l7.72-7.72 1.47 1.35L5.41 20z\"/>\n",
              "  </svg>\n",
              "      </button>\n",
              "      \n",
              "  <style>\n",
              "    .colab-df-container {\n",
              "      display:flex;\n",
              "      flex-wrap:wrap;\n",
              "      gap: 12px;\n",
              "    }\n",
              "\n",
              "    .colab-df-convert {\n",
              "      background-color: #E8F0FE;\n",
              "      border: none;\n",
              "      border-radius: 50%;\n",
              "      cursor: pointer;\n",
              "      display: none;\n",
              "      fill: #1967D2;\n",
              "      height: 32px;\n",
              "      padding: 0 0 0 0;\n",
              "      width: 32px;\n",
              "    }\n",
              "\n",
              "    .colab-df-convert:hover {\n",
              "      background-color: #E2EBFA;\n",
              "      box-shadow: 0px 1px 2px rgba(60, 64, 67, 0.3), 0px 1px 3px 1px rgba(60, 64, 67, 0.15);\n",
              "      fill: #174EA6;\n",
              "    }\n",
              "\n",
              "    [theme=dark] .colab-df-convert {\n",
              "      background-color: #3B4455;\n",
              "      fill: #D2E3FC;\n",
              "    }\n",
              "\n",
              "    [theme=dark] .colab-df-convert:hover {\n",
              "      background-color: #434B5C;\n",
              "      box-shadow: 0px 1px 3px 1px rgba(0, 0, 0, 0.15);\n",
              "      filter: drop-shadow(0px 1px 2px rgba(0, 0, 0, 0.3));\n",
              "      fill: #FFFFFF;\n",
              "    }\n",
              "  </style>\n",
              "\n",
              "      <script>\n",
              "        const buttonEl =\n",
              "          document.querySelector('#df-39b7aaf5-20ee-472a-bc2a-f3952a7684e1 button.colab-df-convert');\n",
              "        buttonEl.style.display =\n",
              "          google.colab.kernel.accessAllowed ? 'block' : 'none';\n",
              "\n",
              "        async function convertToInteractive(key) {\n",
              "          const element = document.querySelector('#df-39b7aaf5-20ee-472a-bc2a-f3952a7684e1');\n",
              "          const dataTable =\n",
              "            await google.colab.kernel.invokeFunction('convertToInteractive',\n",
              "                                                     [key], {});\n",
              "          if (!dataTable) return;\n",
              "\n",
              "          const docLinkHtml = 'Like what you see? Visit the ' +\n",
              "            '<a target=\"_blank\" href=https://colab.research.google.com/notebooks/data_table.ipynb>data table notebook</a>'\n",
              "            + ' to learn more about interactive tables.';\n",
              "          element.innerHTML = '';\n",
              "          dataTable['output_type'] = 'display_data';\n",
              "          await google.colab.output.renderOutput(dataTable, element);\n",
              "          const docLink = document.createElement('div');\n",
              "          docLink.innerHTML = docLinkHtml;\n",
              "          element.appendChild(docLink);\n",
              "        }\n",
              "      </script>\n",
              "    </div>\n",
              "  </div>\n",
              "  "
            ]
          },
          "metadata": {}
        }
      ],
      "source": [
        "df.info()\n",
        "display(df)"
      ]
    },
    {
      "cell_type": "code",
      "source": [
        "print(df.drop(['id'], axis = 1, inplace = False).duplicated().sum())"
      ],
      "metadata": {
        "id": "eVoL1x092w3r",
        "colab": {
          "base_uri": "https://localhost:8080/"
        },
        "outputId": "85a7f4b0-38bb-49f1-889d-83a5138f6969"
      },
      "id": "eVoL1x092w3r",
      "execution_count": null,
      "outputs": [
        {
          "output_type": "stream",
          "name": "stdout",
          "text": [
            "815346\n"
          ]
        }
      ]
    },
    {
      "cell_type": "markdown",
      "source": [
        "при общем анализе мы видим что исключив столбец id имеем очень много дупликатов, поэтому посчитаем их (количество будет отражать количество повторяемых операций) и включим в новый признак"
      ],
      "metadata": {
        "id": "WcVuEsiC2oqE"
      },
      "id": "WcVuEsiC2oqE"
    },
    {
      "cell_type": "code",
      "source": [
        "df = df.drop(['id'], axis=1).groupby(df.drop(['id'], axis=1).columns.tolist(), as_index= False ).size()\n",
        "\n"
      ],
      "metadata": {
        "id": "m236_A_rjCuw"
      },
      "id": "m236_A_rjCuw",
      "execution_count": null,
      "outputs": []
    },
    {
      "cell_type": "markdown",
      "id": "64abbe41-02f1-4c9b-bd55-5371fb47b4c2",
      "metadata": {
        "id": "64abbe41-02f1-4c9b-bd55-5371fb47b4c2"
      },
      "source": [
        "посмотрим распределения количественных величин"
      ]
    },
    {
      "cell_type": "code",
      "source": [
        "m = list(df.select_dtypes('int').columns)\n",
        "print(m)"
      ],
      "metadata": {
        "id": "YTi_4-6JFkc7",
        "colab": {
          "base_uri": "https://localhost:8080/"
        },
        "outputId": "34de8cc7-9970-45b6-f56f-f3f6e592bf6b"
      },
      "id": "YTi_4-6JFkc7",
      "execution_count": null,
      "outputs": [
        {
          "output_type": "stream",
          "name": "stdout",
          "text": [
            "['index_oper', 'priority', 'class', 'weight', 'mailtype', 'mailctg', 'mailrank', 'directctg', 'transport_pay', 'postmark', 'weight_mfi', 'price_mfi', 'dist_qty_oper_login_1', 'total_qty_oper_login_1', 'total_qty_oper_login_0', 'total_qty_over_index_and_type', 'total_qty_over_index', 'is_wrong_sndr_name', 'is_wrong_rcpn_name', 'is_wrong_phone_number', 'is_wrong_address', 'label', 'actlife', 'wrong', 'total_qty_over_type', 'size']\n"
          ]
        }
      ]
    },
    {
      "cell_type": "markdown",
      "id": "c9a7f203-13e8-4ce3-ab80-0d3e73cfdf27",
      "metadata": {
        "id": "c9a7f203-13e8-4ce3-ab80-0d3e73cfdf27"
      },
      "source": [
        "соединим индексы. определим города в которых есть место операции"
      ]
    },
    {
      "cell_type": "markdown",
      "id": "f525ce96-f9ce-482c-b395-a66f2c4df435",
      "metadata": {
        "id": "f525ce96-f9ce-482c-b395-a66f2c4df435"
      },
      "source": [
        "Здесь попробуем"
      ]
    },
    {
      "cell_type": "markdown",
      "id": "bf3df4cd-005e-464b-9310-a447683b6c8f",
      "metadata": {
        "id": "bf3df4cd-005e-464b-9310-a447683b6c8f"
      },
      "source": [
        "###анализ данных"
      ]
    },
    {
      "cell_type": "code",
      "execution_count": null,
      "id": "6e0e27dc-48d5-475f-acdb-868928a9eed3",
      "metadata": {
        "id": "6e0e27dc-48d5-475f-acdb-868928a9eed3",
        "colab": {
          "base_uri": "https://localhost:8080/"
        },
        "outputId": "2c7a2ec5-7879-4550-cda9-aaf8ea50e51b"
      },
      "outputs": [
        {
          "output_type": "stream",
          "name": "stdout",
          "text": [
            "index_oper\n"
          ]
        },
        {
          "output_type": "display_data",
          "data": {
            "text/plain": [
              "<Figure size 432x288 with 1 Axes>"
            ],
            "image/png": "[encoded data removed]"
          },
          "metadata": {
            "needs_background": "light"
          }
        },
        {
          "output_type": "stream",
          "name": "stdout",
          "text": [
            "priority\n"
          ]
        },
        {
          "output_type": "display_data",
          "data": {
            "text/plain": [
              "<Figure size 432x288 with 1 Axes>"
            ],
            "image/png": "[encoded data removed]"
          },
          "metadata": {
            "needs_background": "light"
          }
        },
        {
          "output_type": "stream",
          "name": "stdout",
          "text": [
            "class\n"
          ]
        },
        {
          "output_type": "display_data",
          "data": {
            "text/plain": [
              "<Figure size 432x288 with 1 Axes>"
            ],
            "image/png": "[encoded data removed]"
          },
          "metadata": {
            "needs_background": "light"
          }
        },
        {
          "output_type": "stream",
          "name": "stdout",
          "text": [
            "weight\n"
          ]
        },
        {
          "output_type": "display_data",
          "data": {
            "text/plain": [
              "<Figure size 432x288 with 1 Axes>"
            ],
            "image/png": "[encoded data removed]"
          },
          "metadata": {
            "needs_background": "light"
          }
        },
        {
          "output_type": "stream",
          "name": "stdout",
          "text": [
            "mailtype\n"
          ]
        },
        {
          "output_type": "display_data",
          "data": {
            "text/plain": [
              "<Figure size 432x288 with 1 Axes>"
            ],
            "image/png": "[encoded data removed]"
          },
          "metadata": {
            "needs_background": "light"
          }
        },
        {
          "output_type": "stream",
          "name": "stdout",
          "text": [
            "mailctg\n"
          ]
        },
        {
          "output_type": "display_data",
          "data": {
            "text/plain": [
              "<Figure size 432x288 with 1 Axes>"
            ],
            "image/png": "[encoded data removed]"
          },
          "metadata": {
            "needs_background": "light"
          }
        },
        {
          "output_type": "stream",
          "name": "stdout",
          "text": [
            "mailrank\n"
          ]
        },
        {
          "output_type": "display_data",
          "data": {
            "text/plain": [
              "<Figure size 432x288 with 1 Axes>"
            ],
            "image/png": "[encoded data removed]"
          },
          "metadata": {
            "needs_background": "light"
          }
        },
        {
          "output_type": "stream",
          "name": "stdout",
          "text": [
            "directctg\n"
          ]
        },
        {
          "output_type": "display_data",
          "data": {
            "text/plain": [
              "<Figure size 432x288 with 1 Axes>"
            ],
            "image/png": "[encoded data removed]"
          },
          "metadata": {
            "needs_background": "light"
          }
        },
        {
          "output_type": "stream",
          "name": "stdout",
          "text": [
            "transport_pay\n"
          ]
        },
        {
          "output_type": "display_data",
          "data": {
            "text/plain": [
              "<Figure size 432x288 with 1 Axes>"
            ],
            "image/png": "[encoded data removed]"
          },
          "metadata": {
            "needs_background": "light"
          }
        },
        {
          "output_type": "stream",
          "name": "stdout",
          "text": [
            "postmark\n"
          ]
        },
        {
          "output_type": "display_data",
          "data": {
            "text/plain": [
              "<Figure size 432x288 with 1 Axes>"
            ],
            "image/png": "[encoded data removed]"
          },
          "metadata": {
            "needs_background": "light"
          }
        },
        {
          "output_type": "stream",
          "name": "stdout",
          "text": [
            "weight_mfi\n"
          ]
        },
        {
          "output_type": "display_data",
          "data": {
            "text/plain": [
              "<Figure size 432x288 with 1 Axes>"
            ],
            "image/png": "[encoded data removed]"
          },
          "metadata": {
            "needs_background": "light"
          }
        },
        {
          "output_type": "stream",
          "name": "stdout",
          "text": [
            "price_mfi\n"
          ]
        },
        {
          "output_type": "display_data",
          "data": {
            "text/plain": [
              "<Figure size 432x288 with 1 Axes>"
            ],
            "image/png": "[encoded data removed]"
          },
          "metadata": {
            "needs_background": "light"
          }
        },
        {
          "output_type": "stream",
          "name": "stdout",
          "text": [
            "dist_qty_oper_login_1\n"
          ]
        },
        {
          "output_type": "display_data",
          "data": {
            "text/plain": [
              "<Figure size 432x288 with 1 Axes>"
            ],
            "image/png": "[encoded data removed]"
          },
          "metadata": {
            "needs_background": "light"
          }
        },
        {
          "output_type": "stream",
          "name": "stdout",
          "text": [
            "total_qty_oper_login_1\n"
          ]
        },
        {
          "output_type": "display_data",
          "data": {
            "text/plain": [
              "<Figure size 432x288 with 1 Axes>"
            ],
            "image/png": "[encoded data removed]"
          },
          "metadata": {
            "needs_background": "light"
          }
        },
        {
          "output_type": "stream",
          "name": "stdout",
          "text": [
            "total_qty_oper_login_0\n"
          ]
        },
        {
          "output_type": "display_data",
          "data": {
            "text/plain": [
              "<Figure size 432x288 with 1 Axes>"
            ],
            "image/png": "[encoded data removed]"
          },
          "metadata": {
            "needs_background": "light"
          }
        },
        {
          "output_type": "stream",
          "name": "stdout",
          "text": [
            "total_qty_over_index_and_type\n"
          ]
        },
        {
          "output_type": "display_data",
          "data": {
            "text/plain": [
              "<Figure size 432x288 with 1 Axes>"
            ],
            "image/png": "[encoded data removed]"
          },
          "metadata": {
            "needs_background": "light"
          }
        },
        {
          "output_type": "stream",
          "name": "stdout",
          "text": [
            "total_qty_over_index\n"
          ]
        },
        {
          "output_type": "display_data",
          "data": {
            "text/plain": [
              "<Figure size 432x288 with 1 Axes>"
            ],
            "image/png": "[encoded data removed]"
          },
          "metadata": {
            "needs_background": "light"
          }
        },
        {
          "output_type": "stream",
          "name": "stdout",
          "text": [
            "is_wrong_sndr_name\n"
          ]
        },
        {
          "output_type": "display_data",
          "data": {
            "text/plain": [
              "<Figure size 432x288 with 1 Axes>"
            ],
            "image/png": "[encoded data removed]"
          },
          "metadata": {
            "needs_background": "light"
          }
        },
        {
          "output_type": "stream",
          "name": "stdout",
          "text": [
            "is_wrong_rcpn_name\n"
          ]
        },
        {
          "output_type": "display_data",
          "data": {
            "text/plain": [
              "<Figure size 432x288 with 1 Axes>"
            ],
            "image/png": "[encoded data removed]"
          },
          "metadata": {
            "needs_background": "light"
          }
        },
        {
          "output_type": "stream",
          "name": "stdout",
          "text": [
            "is_wrong_phone_number\n"
          ]
        },
        {
          "output_type": "display_data",
          "data": {
            "text/plain": [
              "<Figure size 432x288 with 1 Axes>"
            ],
            "image/png": "[encoded data removed]"
          },
          "metadata": {
            "needs_background": "light"
          }
        },
        {
          "output_type": "stream",
          "name": "stdout",
          "text": [
            "is_wrong_address\n"
          ]
        },
        {
          "output_type": "display_data",
          "data": {
            "text/plain": [
              "<Figure size 432x288 with 1 Axes>"
            ],
            "image/png": "[encoded data removed]"
          },
          "metadata": {
            "needs_background": "light"
          }
        },
        {
          "output_type": "stream",
          "name": "stdout",
          "text": [
            "label\n"
          ]
        },
        {
          "output_type": "display_data",
          "data": {
            "text/plain": [
              "<Figure size 432x288 with 1 Axes>"
            ],
            "image/png": "[encoded data removed]"
          },
          "metadata": {
            "needs_background": "light"
          }
        },
        {
          "output_type": "stream",
          "name": "stdout",
          "text": [
            "actlife\n"
          ]
        },
        {
          "output_type": "display_data",
          "data": {
            "text/plain": [
              "<Figure size 432x288 with 1 Axes>"
            ],
            "image/png": "[encoded data removed]"
          },
          "metadata": {
            "needs_background": "light"
          }
        },
        {
          "output_type": "stream",
          "name": "stdout",
          "text": [
            "wrong\n"
          ]
        },
        {
          "output_type": "display_data",
          "data": {
            "text/plain": [
              "<Figure size 432x288 with 1 Axes>"
            ],
            "image/png": "[encoded data removed]"
          },
          "metadata": {
            "needs_background": "light"
          }
        },
        {
          "output_type": "stream",
          "name": "stdout",
          "text": [
            "total_qty_over_type\n"
          ]
        },
        {
          "output_type": "display_data",
          "data": {
            "text/plain": [
              "<Figure size 432x288 with 1 Axes>"
            ],
            "image/png": "[encoded data removed]"
          },
          "metadata": {
            "needs_background": "light"
          }
        },
        {
          "output_type": "stream",
          "name": "stdout",
          "text": [
            "size\n"
          ]
        },
        {
          "output_type": "display_data",
          "data": {
            "text/plain": [
              "<Figure size 432x288 with 1 Axes>"
            ],
            "image/png": "[encoded data removed]"
          },
          "metadata": {
            "needs_background": "light"
          }
        }
      ],
      "source": [
        "for i in m:\n",
        "    print(i)\n",
        "    plt.boxplot(x=df[i])\n",
        "    plt.show()\n",
        "\n",
        "\n"
      ]
    },
    {
      "cell_type": "code",
      "source": [
        "df = df.query('weight < 40000')\n",
        "df = df.query('transport_pay < 400')\n",
        "df = df.query('weight_mfi < 8000')\n",
        "df = df.query('price_mfi < 130000')"
      ],
      "metadata": {
        "id": "D2lzR1cUfRvh"
      },
      "id": "D2lzR1cUfRvh",
      "execution_count": null,
      "outputs": []
    },
    {
      "cell_type": "markdown",
      "source": [
        "урезали выбросы с явными количественными переменными"
      ],
      "metadata": {
        "id": "dQgImSiKIo-u"
      },
      "id": "dQgImSiKIo-u"
    },
    {
      "cell_type": "markdown",
      "id": "870f0977-b5aa-4508-8e25-4eaa8bf5cf12",
      "metadata": {
        "id": "870f0977-b5aa-4508-8e25-4eaa8bf5cf12"
      },
      "source": [
        "## Выделим выборки"
      ]
    },
    {
      "cell_type": "markdown",
      "id": "f902e2ae-1677-4c33-a94d-4dce660ed670",
      "metadata": {
        "id": "f902e2ae-1677-4c33-a94d-4dce660ed670"
      },
      "source": [
        "Обьединим список не нужных строк с списком строк типа object"
      ]
    },
    {
      "cell_type": "code",
      "execution_count": null,
      "id": "e5cb729c-0167-4ade-bd0f-59bafdebf567",
      "metadata": {
        "colab": {
          "base_uri": "https://localhost:8080/"
        },
        "id": "e5cb729c-0167-4ade-bd0f-59bafdebf567",
        "outputId": "6e6b9efd-0e5b-4c79-9538-5094cee06eb5"
      },
      "outputs": [
        {
          "output_type": "stream",
          "name": "stdout",
          "text": [
            "Index(['oper_type + oper_attr', 'type', 'is_privatecategory', 'is_in_yandex',\n",
            "       'is_return', 'mfi_clust', 'mfi_lang_lemm', 'city'],\n",
            "      dtype='object')\n"
          ]
        }
      ],
      "source": [
        "col_obj = df.select_dtypes('object').columns\n",
        "print(col_obj)"
      ]
    },
    {
      "cell_type": "code",
      "execution_count": null,
      "id": "q0xeH9M9dkmD",
      "metadata": {
        "id": "q0xeH9M9dkmD",
        "colab": {
          "base_uri": "https://localhost:8080/"
        },
        "outputId": "afbd9ea3-642c-4736-928a-5b12c975a515"
      },
      "outputs": [
        {
          "output_type": "stream",
          "name": "stdout",
          "text": [
            "<class 'pandas.core.frame.DataFrame'>\n",
            "Int64Index: 5184578 entries, 0 to 5184653\n",
            "Data columns (total 34 columns):\n",
            " #   Column                         Dtype \n",
            "---  ------                         ----- \n",
            " 0   oper_type + oper_attr          object\n",
            " 1   index_oper                     int64 \n",
            " 2   type                           object\n",
            " 3   priority                       int64 \n",
            " 4   is_privatecategory             object\n",
            " 5   class                          int64 \n",
            " 6   is_in_yandex                   object\n",
            " 7   is_return                      object\n",
            " 8   weight                         int64 \n",
            " 9   mailtype                       int64 \n",
            " 10  mailctg                        int64 \n",
            " 11  mailrank                       int64 \n",
            " 12  directctg                      int64 \n",
            " 13  transport_pay                  int64 \n",
            " 14  postmark                       int64 \n",
            " 15  weight_mfi                     int64 \n",
            " 16  price_mfi                      int64 \n",
            " 17  dist_qty_oper_login_1          int64 \n",
            " 18  total_qty_oper_login_1         int64 \n",
            " 19  total_qty_oper_login_0         int64 \n",
            " 20  total_qty_over_index_and_type  int64 \n",
            " 21  total_qty_over_index           int64 \n",
            " 22  is_wrong_sndr_name             int64 \n",
            " 23  is_wrong_rcpn_name             int64 \n",
            " 24  is_wrong_phone_number          int64 \n",
            " 25  is_wrong_address               int64 \n",
            " 26  label                          int64 \n",
            " 27  mfi_clust                      object\n",
            " 28  mfi_lang_lemm                  object\n",
            " 29  city                           object\n",
            " 30  actlife                        int64 \n",
            " 31  wrong                          int64 \n",
            " 32  total_qty_over_type            int64 \n",
            " 33  size                           int64 \n",
            "dtypes: int64(26), object(8)\n",
            "memory usage: 1.4+ GB\n"
          ]
        }
      ],
      "source": [
        "df.info()"
      ]
    },
    {
      "cell_type": "code",
      "execution_count": null,
      "id": "012d7bfe-4a50-440e-974c-8d05310904b3",
      "metadata": {
        "id": "012d7bfe-4a50-440e-974c-8d05310904b3"
      },
      "outputs": [],
      "source": [
        "col_obj_2 = [ 'class', 'mailctg', 'directctg', 'mfi_clust' ,\n",
        "  'city','wrong', 'size', 'type', 'is_privatecategory', 'is_in_yandex',\n",
        "       'is_return','postmark', 'mailrank', 'index_oper', 'priority','mailtype','mailctg','is_wrong_sndr_name', 'is_wrong_rcpn_name', 'is_wrong_phone_number','is_wrong_address','wrong', 'size' ]\n"
      ]
    },
    {
      "cell_type": "markdown",
      "source": [
        "вытягиваем категорированные признаки"
      ],
      "metadata": {
        "id": "YTt9-DMYqQSZ"
      },
      "id": "YTt9-DMYqQSZ"
    },
    {
      "cell_type": "code",
      "source": [
        "for i in col_obj_2:\n",
        "    df[i] = df[i].astype('category')\n",
        "print(df.info())"
      ],
      "metadata": {
        "colab": {
          "base_uri": "https://localhost:8080/"
        },
        "id": "g14sMVzCdU6M",
        "outputId": "6706f0cd-10d4-4629-caf6-1673cb2f9fe1"
      },
      "id": "g14sMVzCdU6M",
      "execution_count": null,
      "outputs": [
        {
          "output_type": "stream",
          "name": "stdout",
          "text": [
            "<class 'pandas.core.frame.DataFrame'>\n",
            "Int64Index: 5184578 entries, 0 to 5184653\n",
            "Data columns (total 34 columns):\n",
            " #   Column                         Dtype   \n",
            "---  ------                         -----   \n",
            " 0   oper_type + oper_attr          object  \n",
            " 1   index_oper                     category\n",
            " 2   type                           category\n",
            " 3   priority                       category\n",
            " 4   is_privatecategory             category\n",
            " 5   class                          category\n",
            " 6   is_in_yandex                   category\n",
            " 7   is_return                      category\n",
            " 8   weight                         int64   \n",
            " 9   mailtype                       category\n",
            " 10  mailctg                        category\n",
            " 11  mailrank                       category\n",
            " 12  directctg                      category\n",
            " 13  transport_pay                  int64   \n",
            " 14  postmark                       category\n",
            " 15  weight_mfi                     int64   \n",
            " 16  price_mfi                      int64   \n",
            " 17  dist_qty_oper_login_1          int64   \n",
            " 18  total_qty_oper_login_1         int64   \n",
            " 19  total_qty_oper_login_0         int64   \n",
            " 20  total_qty_over_index_and_type  int64   \n",
            " 21  total_qty_over_index           int64   \n",
            " 22  is_wrong_sndr_name             category\n",
            " 23  is_wrong_rcpn_name             category\n",
            " 24  is_wrong_phone_number          category\n",
            " 25  is_wrong_address               category\n",
            " 26  label                          int64   \n",
            " 27  mfi_clust                      category\n",
            " 28  mfi_lang_lemm                  object  \n",
            " 29  city                           category\n",
            " 30  actlife                        int64   \n",
            " 31  wrong                          category\n",
            " 32  total_qty_over_type            int64   \n",
            " 33  size                           category\n",
            "dtypes: category(20), int64(12), object(2)\n",
            "memory usage: 702.8+ MB\n",
            "None\n"
          ]
        }
      ]
    },
    {
      "cell_type": "code",
      "source": [
        "print(df.info())"
      ],
      "metadata": {
        "id": "5Y8Kwk_lfFOH",
        "colab": {
          "base_uri": "https://localhost:8080/"
        },
        "outputId": "42b4bef6-24e0-44f0-adc0-9963464461d7"
      },
      "id": "5Y8Kwk_lfFOH",
      "execution_count": null,
      "outputs": [
        {
          "output_type": "stream",
          "name": "stdout",
          "text": [
            "<class 'pandas.core.frame.DataFrame'>\n",
            "Int64Index: 5184578 entries, 0 to 5184653\n",
            "Data columns (total 34 columns):\n",
            " #   Column                         Dtype   \n",
            "---  ------                         -----   \n",
            " 0   oper_type + oper_attr          object  \n",
            " 1   index_oper                     category\n",
            " 2   type                           category\n",
            " 3   priority                       category\n",
            " 4   is_privatecategory             category\n",
            " 5   class                          category\n",
            " 6   is_in_yandex                   category\n",
            " 7   is_return                      category\n",
            " 8   weight                         int64   \n",
            " 9   mailtype                       category\n",
            " 10  mailctg                        category\n",
            " 11  mailrank                       category\n",
            " 12  directctg                      category\n",
            " 13  transport_pay                  int64   \n",
            " 14  postmark                       category\n",
            " 15  weight_mfi                     int64   \n",
            " 16  price_mfi                      int64   \n",
            " 17  dist_qty_oper_login_1          int64   \n",
            " 18  total_qty_oper_login_1         int64   \n",
            " 19  total_qty_oper_login_0         int64   \n",
            " 20  total_qty_over_index_and_type  int64   \n",
            " 21  total_qty_over_index           int64   \n",
            " 22  is_wrong_sndr_name             category\n",
            " 23  is_wrong_rcpn_name             category\n",
            " 24  is_wrong_phone_number          category\n",
            " 25  is_wrong_address               category\n",
            " 26  label                          int64   \n",
            " 27  mfi_clust                      category\n",
            " 28  mfi_lang_lemm                  object  \n",
            " 29  city                           category\n",
            " 30  actlife                        int64   \n",
            " 31  wrong                          category\n",
            " 32  total_qty_over_type            int64   \n",
            " 33  size                           category\n",
            "dtypes: category(20), int64(12), object(2)\n",
            "memory usage: 702.8+ MB\n",
            "None\n"
          ]
        }
      ]
    },
    {
      "cell_type": "markdown",
      "id": "TzePEZtK1xuy",
      "metadata": {
        "id": "TzePEZtK1xuy"
      },
      "source": []
    },
    {
      "cell_type": "code",
      "execution_count": null,
      "id": "b5fc1ecd-9c4a-4c14-83ad-91692e407e08",
      "metadata": {
        "colab": {
          "base_uri": "https://localhost:8080/"
        },
        "id": "b5fc1ecd-9c4a-4c14-83ad-91692e407e08",
        "outputId": "a0c3f939-8b5d-4d3c-fb7e-bccfd8bc0f36"
      },
      "outputs": [
        {
          "output_type": "execute_result",
          "data": {
            "text/plain": [
              "27855"
            ]
          },
          "metadata": {},
          "execution_count": 24
        }
      ],
      "source": [
        "#,'is_wrong_sndr_name' ,'is_wrong_rcpn_name', 'is_wrong_phone_number', 'is_wrong_address','mailrank','is_in_yandex', 'is_return','postmark','mailtype','is_privatecategory'\n",
        "\n",
        "X = df.drop(['label','oper_type + oper_attr'], axis=1)\n",
        "y = df[\"label\"]\n",
        "del df\n",
        "# запуск сбора\n",
        "gc.collect()"
      ]
    },
    {
      "cell_type": "code",
      "source": [],
      "metadata": {
        "id": "vvG0T1W1n7I3"
      },
      "id": "vvG0T1W1n7I3",
      "execution_count": null,
      "outputs": []
    },
    {
      "cell_type": "code",
      "source": [
        "dataset = cb.Pool(X, y, cat_features=col_obj_2,text_features=['mfi_lang_lemm'])\n"
      ],
      "metadata": {
        "id": "wzMX7UCRelSQ"
      },
      "id": "wzMX7UCRelSQ",
      "execution_count": null,
      "outputs": []
    },
    {
      "cell_type": "code",
      "execution_count": null,
      "id": "dd2d2fa8-e39c-46c4-b692-ba76d9195a61",
      "metadata": {
        "colab": {
          "base_uri": "https://localhost:8080/"
        },
        "id": "dd2d2fa8-e39c-46c4-b692-ba76d9195a61",
        "outputId": "826e743f-42bb-4656-a9e8-6fca9a883abb"
      },
      "outputs": [
        {
          "output_type": "execute_result",
          "data": {
            "text/plain": [
              "0"
            ]
          },
          "metadata": {},
          "execution_count": 26
        }
      ],
      "source": [
        "X_train, X_test, y_train, y_test = train_test_split(X, y, test_size=0.2, random_state=42,stratify = y)\n",
        "\n",
        "del X, y\n",
        "dataset_train = cb.Pool(X_train, y_train, cat_features=col_obj_2,text_features=['mfi_lang_lemm'])\n",
        "dataset_test = cb.Pool(X_test, y_test, cat_features=col_obj_2,text_features=['mfi_lang_lemm'])\n",
        "del X_train, X_test, y_train\n",
        "gc.collect()"
      ]
    },
    {
      "cell_type": "markdown",
      "id": "527bba5d-b313-4a44-8164-83b527a2a5c1",
      "metadata": {
        "id": "527bba5d-b313-4a44-8164-83b527a2a5c1"
      },
      "source": [
        "### подберем гиперпараметры"
      ]
    },
    {
      "cell_type": "code",
      "source": [
        "clf = CBclass( iterations = 190,learning_rate = 0.4, loss_function = 'CrossEntropy', random_state=42, random_strength = 10, leaf_estimation_method = 'Newton', task_type=\"GPU\", devices='0:1')"
      ],
      "metadata": {
        "id": "g0A_H-9kqmrd"
      },
      "id": "g0A_H-9kqmrd",
      "execution_count": null,
      "outputs": []
    },
    {
      "cell_type": "code",
      "source": [
        "#model = clf\n",
        "\n",
        "grid = {'iterations': [10],#[500, 1000, 1200],\n",
        "        'learning_rate': [0.4]}#,#[ 0.1, 0.3],\n",
        "        #'depth': [6],#[ 6, 10],\n",
        "        #'l2_leaf_reg':[5]}# [ 5, 7, 9]}\n",
        "\n",
        "#grid_search_result = model.grid_search(grid,\n",
        " #                                      dataset,\n",
        "  #                                    train_size = 0.8,\n",
        "   #                                    shuffle = True,\n",
        "    #                                   stratified = True,\n",
        "     #                                  cv = 2)"
      ],
      "metadata": {
        "id": "OuKxfJBgqJaY"
      },
      "id": "OuKxfJBgqJaY",
      "execution_count": null,
      "outputs": []
    },
    {
      "cell_type": "markdown",
      "id": "e1fd6307-f7d9-4c5e-8f7f-e3669d4239ec",
      "metadata": {
        "id": "e1fd6307-f7d9-4c5e-8f7f-e3669d4239ec"
      },
      "source": [
        "## Обучение модели"
      ]
    },
    {
      "cell_type": "code",
      "execution_count": null,
      "id": "12782fdd-17a8-40e5-9336-d6dad701bf04",
      "metadata": {
        "id": "12782fdd-17a8-40e5-9336-d6dad701bf04"
      },
      "outputs": [],
      "source": [
        "#display(grid_search_result.best_params_)"
      ]
    },
    {
      "cell_type": "code",
      "execution_count": null,
      "id": "fd5f578a-a0e0-4135-b50d-3979b034d409",
      "metadata": {
        "id": "fd5f578a-a0e0-4135-b50d-3979b034d409"
      },
      "outputs": [],
      "source": [
        "#final_model = clf.set_params(grid)\n",
        "clf.fit(dataset_train)\n",
        "clf.save_model('content/catboost_1.json')\n",
        "clf.save_model('content/catboost.bin')"
      ]
    },
    {
      "cell_type": "markdown",
      "id": "19223e02-49db-4781-8681-885d9a2177c8",
      "metadata": {
        "id": "19223e02-49db-4781-8681-885d9a2177c8"
      },
      "source": [
        "## Оценка точности"
      ]
    },
    {
      "cell_type": "markdown",
      "source": [],
      "metadata": {
        "id": "F0jJp-Tid4o6"
      },
      "id": "F0jJp-Tid4o6"
    },
    {
      "cell_type": "code",
      "execution_count": null,
      "id": "Do1fCDVvWEqT",
      "metadata": {
        "id": "Do1fCDVvWEqT"
      },
      "outputs": [],
      "source": [
        "del X, y\n",
        "gc.collect()"
      ]
    },
    {
      "cell_type": "code",
      "execution_count": null,
      "id": "a21fb1b6-91d3-4806-91b3-8ffbda2cbdf9",
      "metadata": {
        "id": "a21fb1b6-91d3-4806-91b3-8ffbda2cbdf9"
      },
      "outputs": [],
      "source": [
        "from sklearn.metrics import f1_score, classification_report\n",
        "t = pd.DataFrame({'y_true':y_test['label'],\n",
        "                  'y_pred':final_model.predict(dataset_test),\n",
        "                  'y_score':final_model.predict_proba(dataset_test)[:,1]})\n"
      ]
    },
    {
      "cell_type": "code",
      "source": [
        "from sklearn.metrics import roc_curve, roc_auc_score\n",
        "fpr, tpr, thr = roc_curve(t['y_true'], t['y_score'])"
      ],
      "metadata": {
        "id": "yH7Ibdg_WA1p"
      },
      "id": "yH7Ibdg_WA1p",
      "execution_count": null,
      "outputs": []
    },
    {
      "cell_type": "code",
      "source": [
        "roc = pd.DataFrame({'fpr':fpr,'tpr':tpr,'thr':thr})\n",
        "roc.plot(x = 'fpr', y='tpr', figsize =(6,6), grid = True)"
      ],
      "metadata": {
        "id": "Ejrl7epFhnpg"
      },
      "id": "Ejrl7epFhnpg",
      "execution_count": null,
      "outputs": []
    },
    {
      "cell_type": "code",
      "source": [
        "roc['tpr - fpr'] = roc['tpr'] - roc['fpr']\n",
        "roc.sort_values('tpr - fpr', ascending = False)['thr']\n",
        "ocen = roc.sort_values('tpr - fpr', ascending = False,inplace = True)['thr']\n",
        "value_p = ocen['thr', 0]"
      ],
      "metadata": {
        "id": "CyeRkLs-iUvr"
      },
      "id": "CyeRkLs-iUvr",
      "execution_count": null,
      "outputs": []
    },
    {
      "cell_type": "code",
      "execution_count": null,
      "id": "c434a751-7eb4-49f5-9aa2-2e4b63f0e3b9",
      "metadata": {
        "id": "c434a751-7eb4-49f5-9aa2-2e4b63f0e3b9"
      },
      "outputs": [],
      "source": [
        "from sklearn.metrics import roc_auc_score, recall_score\n",
        "\n",
        "score = roc_auc_score(y_test, pred, multi_class = \"ovo\" )\n",
        "score_2 = recall_score(y_test, pred, average = \"macro\" )\n",
        "\n",
        "\n",
        "final_score = (0.1 * score_2) + (0.9 * score)\n"
      ]
    },
    {
      "cell_type": "code",
      "execution_count": null,
      "id": "fd57872f-0ee4-44cf-b793-351eaef18606",
      "metadata": {
        "colab": {
          "base_uri": "https://localhost:8080/"
        },
        "id": "fd57872f-0ee4-44cf-b793-351eaef18606",
        "outputId": "007c398b-e35a-4289-e980-a891d8c02402"
      },
      "outputs": [
        {
          "name": "stdout",
          "output_type": "stream",
          "text": [
            "Recall 0.9752308243126359 0.9752308243126357 0.9752308243126357\n",
            "Recall 0.9748595796450011 0.9748595796450011 0.9748595796450011\n",
            "Recall 0.8492786872274323 0.8492786872274322 0.8492786872274322\n"
          ]
        }
      ],
      "source": [
        "print('Recall 0.9752308243126359 0.9752308243126357 0.9752308243126357')\n",
        "print('Recall 0.9748595796450011 0.9748595796450011 0.9748595796450011')\n",
        "print(\"Recall\", final_score, score_2, score)"
      ]
    },
    {
      "cell_type": "code",
      "execution_count": null,
      "id": "605eb6a6-dc5c-447d-a8e2-39697399245c",
      "metadata": {
        "colab": {
          "base_uri": "https://localhost:8080/"
        },
        "id": "605eb6a6-dc5c-447d-a8e2-39697399245c",
        "outputId": "f8f5d6ed-5c50-4429-c52c-60fac81fbcfb"
      },
      "outputs": [
        {
          "data": {
            "text/plain": [
              "0"
            ]
          },
          "execution_count": 36,
          "metadata": {},
          "output_type": "execute_result"
        }
      ],
      "source": [
        "del pred, X_test, y_test\n",
        "gc.collect()"
      ]
    },
    {
      "cell_type": "markdown",
      "id": "7868cf07-3973-4625-88cd-00ca48ba9190",
      "metadata": {
        "id": "7868cf07-3973-4625-88cd-00ca48ba9190"
      },
      "source": [
        "Попробуем разобрать тестовый файл\n"
      ]
    },
    {
      "cell_type": "code",
      "execution_count": null,
      "id": "dc0f9f79-1e00-4ba2-9070-4cef75b99fab",
      "metadata": {
        "id": "dc0f9f79-1e00-4ba2-9070-4cef75b99fab",
        "colab": {
          "base_uri": "https://localhost:8080/"
        },
        "outputId": "3f815411-4f4f-4e7d-e6fa-026878dc1909"
      },
      "outputs": [
        {
          "output_type": "stream",
          "name": "stdout",
          "text": [
            "  % Total    % Received % Xferd  Average Speed   Time    Time     Time  Current\n",
            "                                 Dload  Upload   Total   Spent    Left  Speed\n",
            "  0     0    0     0    0     0      0      0 --:--:-- --:--:-- --:--:--     0\n",
            "100  625M  100  625M    0     0   156M      0  0:00:03  0:00:03 --:--:--  174M\n"
          ]
        }
      ],
      "source": [
        "! [ ! -s \"./test_dataset_test.csv\" ] && curl -L -o test_dataset_test.csv \"https://drive.google.com/uc?export=download&confirm=no_antivirus&id=1InOC4H4Qpu0eCvc0-DIgJ08LMzjnOya5\""
      ]
    },
    {
      "cell_type": "code",
      "execution_count": null,
      "id": "e82515a7-c1b4-4abf-96bc-32b45eabf846",
      "metadata": {
        "id": "e82515a7-c1b4-4abf-96bc-32b45eabf846",
        "colab": {
          "base_uri": "https://localhost:8080/"
        },
        "outputId": "99afc56f-28a8-4f4f-a188-295d4d65abac"
      },
      "outputs": [
        {
          "output_type": "stream",
          "name": "stderr",
          "text": [
            "/usr/local/lib/python3.7/dist-packages/IPython/core/interactiveshell.py:3326: DtypeWarning: Columns (2) have mixed types.Specify dtype option on import or set low_memory=False.\n",
            "  exec(code_obj, self.user_global_ns, self.user_ns)\n"
          ]
        }
      ],
      "source": [
        "df_test = pd.read_csv(\"content/test_dataset_test.csv\")"
      ]
    },
    {
      "cell_type": "code",
      "execution_count": null,
      "id": "Go2nNaZaTQvd",
      "metadata": {
        "id": "Go2nNaZaTQvd"
      },
      "outputs": [],
      "source": [
        "df_clust_mfi = pd.read_csv(\"content/file_test_words_clust.csv\")"
      ]
    },
    {
      "cell_type": "code",
      "execution_count": null,
      "id": "efxKMsDfpRp8",
      "metadata": {
        "id": "efxKMsDfpRp8",
        "colab": {
          "base_uri": "https://localhost:8080/"
        },
        "outputId": "694c19c1-3198-454c-93fe-9ec4230e997b"
      },
      "outputs": [
        {
          "output_type": "execute_result",
          "data": {
            "text/plain": [
              "54"
            ]
          },
          "metadata": {},
          "execution_count": 38
        }
      ],
      "source": [
        "\n",
        "\n",
        "df_test['name_mfi'] = df_test['name_mfi'].str.lower()\n",
        "df_test[\"name_mfi\"] = df_test[\"name_mfi\"].fillna(0)\n",
        "df_test.loc[df_test['name_mfi'] == '0', 'name_mfi'] = 'no datum'\n",
        "df_test['mfi_clust'] = df_test['name_mfi'].map(df_clust_mfi.set_index('index_id.1')['cluster'])\n",
        "df_test['mfi_lang_lemm'] = df_test['name_mfi'].map(df_clust_mfi.set_index('index_id.1')['name_mfi_lemm'])\n",
        "df_test['mfi_clust'] = df_test['mfi_clust'].astype('str')\n",
        "df_test['mfi_lang_lemm'] = df_test[\"mfi_lang_lemm\"].fillna(df_test['name_mfi'])\n",
        "\n",
        "df_test = obrabotka(df_test)\n",
        "gc.collect()"
      ]
    },
    {
      "cell_type": "code",
      "execution_count": null,
      "id": "1wHCP9B1ZQJ9",
      "metadata": {
        "id": "1wHCP9B1ZQJ9",
        "colab": {
          "base_uri": "https://localhost:8080/",
          "height": 609
        },
        "outputId": "8ce1b616-51d2-47ab-ca26-29fc9cd096c4"
      },
      "outputs": [
        {
          "output_type": "display_data",
          "data": {
            "text/plain": [
              "        oper_type + oper_attr  index_oper  type  priority is_privatecategory  \\\n",
              "0                        0_-1      102973  ММПО      7503                  N   \n",
              "1                        0_-1      102973  ММПО      7503                  N   \n",
              "2                        0_-1      102973  ММПО      7503                  N   \n",
              "3                        0_-1      102973  ММПО      7503                  N   \n",
              "4                        0_-1      102973  ММПО      7503                  N   \n",
              "...                       ...         ...   ...       ...                ...   \n",
              "3999995                  9_-1      690951   Цех      7503                  N   \n",
              "3999996                  9_-1      690951   Цех      7503                  N   \n",
              "3999997                  9_-1      690951   Цех      7503                  N   \n",
              "3999998                  9_-1      690951   Цех      7503                  N   \n",
              "3999999                  9_-1      690951   Цех      7503                  N   \n",
              "\n",
              "         class is_in_yandex is_return  weight mailtype  ...  \\\n",
              "0            0            N         N      63        5  ...   \n",
              "1            0            N         N     115        5  ...   \n",
              "2            0            N         N     180        7  ...   \n",
              "3            0            N         N     341        5  ...   \n",
              "4            0            N         N     448        5  ...   \n",
              "...        ...          ...       ...     ...      ...  ...   \n",
              "3999995      0            N         N    1586        5  ...   \n",
              "3999996      0            N         N    1594        5  ...   \n",
              "3999997      0            N         N    1595        5  ...   \n",
              "3999998      0            N         N    1604        5  ...   \n",
              "3999999      0            N         N    1996        5  ...   \n",
              "\n",
              "         is_wrong_phone_number is_wrong_address  mfi_clust     mfi_lang_lemm  \\\n",
              "0                            0                0          2     processor e v   \n",
              "1                            0                0          2  belt vz redbrown   \n",
              "2                            0                0          8     bicycle light   \n",
              "3                            0                0          2   lamp tooth tube   \n",
              "4                            1                0          2      shoulder bag   \n",
              "...                        ...              ...        ...               ...   \n",
              "3999995                      0                0         20            pantie   \n",
              "3999996                      0                0          2               die   \n",
              "3999997                      0                0          2      shoulder bag   \n",
              "3999998                      0                0          2             sheet   \n",
              "3999999                      0                0         26           t shirt   \n",
              "\n",
              "                    city  actlife  wrong  total_qty_over_type  size       id  \n",
              "0                 МОСКВА      950      0             -1039197     1  5341871  \n",
              "1                 МОСКВА      950      0             -1039197     1  5218956  \n",
              "2                 МОСКВА      950      0              -391389     1  8546403  \n",
              "3                 МОСКВА      950      1             -1039197     1  9520850  \n",
              "4                 МОСКВА      950      2             -1039197     1  3189029  \n",
              "...                  ...      ...    ...                  ...   ...      ...  \n",
              "3999995  ПРИМОРСКИЙ КРАЙ     2938      0                -1971     1  7951997  \n",
              "3999996  ПРИМОРСКИЙ КРАЙ     2938      0                -1971     1  1285672  \n",
              "3999997  ПРИМОРСКИЙ КРАЙ     2938      0                -1971     1   296884  \n",
              "3999998  ПРИМОРСКИЙ КРАЙ     2938      0                -1971     1  6833383  \n",
              "3999999  ПРИМОРСКИЙ КРАЙ     2938      0                -1971     1  5625730  \n",
              "\n",
              "[4000000 rows x 34 columns]"
            ],
            "text/html": [
              "\n",
              "  <div id=\"df-fc7b50e7-125d-42e1-aa18-d1f4fb5293e2\">\n",
              "    <div class=\"colab-df-container\">\n",
              "      <div>\n",
              "<style scoped>\n",
              "    .dataframe tbody tr th:only-of-type {\n",
              "        vertical-align: middle;\n",
              "    }\n",
              "\n",
              "    .dataframe tbody tr th {\n",
              "        vertical-align: top;\n",
              "    }\n",
              "\n",
              "    .dataframe thead th {\n",
              "        text-align: right;\n",
              "    }\n",
              "</style>\n",
              "<table border=\"1\" class=\"dataframe\">\n",
              "  <thead>\n",
              "    <tr style=\"text-align: right;\">\n",
              "      <th></th>\n",
              "      <th>oper_type + oper_attr</th>\n",
              "      <th>index_oper</th>\n",
              "      <th>type</th>\n",
              "      <th>priority</th>\n",
              "      <th>is_privatecategory</th>\n",
              "      <th>class</th>\n",
              "      <th>is_in_yandex</th>\n",
              "      <th>is_return</th>\n",
              "      <th>weight</th>\n",
              "      <th>mailtype</th>\n",
              "      <th>...</th>\n",
              "      <th>is_wrong_phone_number</th>\n",
              "      <th>is_wrong_address</th>\n",
              "      <th>mfi_clust</th>\n",
              "      <th>mfi_lang_lemm</th>\n",
              "      <th>city</th>\n",
              "      <th>actlife</th>\n",
              "      <th>wrong</th>\n",
              "      <th>total_qty_over_type</th>\n",
              "      <th>size</th>\n",
              "      <th>id</th>\n",
              "    </tr>\n",
              "  </thead>\n",
              "  <tbody>\n",
              "    <tr>\n",
              "      <th>0</th>\n",
              "      <td>0_-1</td>\n",
              "      <td>102973</td>\n",
              "      <td>ММПО</td>\n",
              "      <td>7503</td>\n",
              "      <td>N</td>\n",
              "      <td>0</td>\n",
              "      <td>N</td>\n",
              "      <td>N</td>\n",
              "      <td>63</td>\n",
              "      <td>5</td>\n",
              "      <td>...</td>\n",
              "      <td>0</td>\n",
              "      <td>0</td>\n",
              "      <td>2</td>\n",
              "      <td>processor e v</td>\n",
              "      <td>МОСКВА</td>\n",
              "      <td>950</td>\n",
              "      <td>0</td>\n",
              "      <td>-1039197</td>\n",
              "      <td>1</td>\n",
              "      <td>5341871</td>\n",
              "    </tr>\n",
              "    <tr>\n",
              "      <th>1</th>\n",
              "      <td>0_-1</td>\n",
              "      <td>102973</td>\n",
              "      <td>ММПО</td>\n",
              "      <td>7503</td>\n",
              "      <td>N</td>\n",
              "      <td>0</td>\n",
              "      <td>N</td>\n",
              "      <td>N</td>\n",
              "      <td>115</td>\n",
              "      <td>5</td>\n",
              "      <td>...</td>\n",
              "      <td>0</td>\n",
              "      <td>0</td>\n",
              "      <td>2</td>\n",
              "      <td>belt vz redbrown</td>\n",
              "      <td>МОСКВА</td>\n",
              "      <td>950</td>\n",
              "      <td>0</td>\n",
              "      <td>-1039197</td>\n",
              "      <td>1</td>\n",
              "      <td>5218956</td>\n",
              "    </tr>\n",
              "    <tr>\n",
              "      <th>2</th>\n",
              "      <td>0_-1</td>\n",
              "      <td>102973</td>\n",
              "      <td>ММПО</td>\n",
              "      <td>7503</td>\n",
              "      <td>N</td>\n",
              "      <td>0</td>\n",
              "      <td>N</td>\n",
              "      <td>N</td>\n",
              "      <td>180</td>\n",
              "      <td>7</td>\n",
              "      <td>...</td>\n",
              "      <td>0</td>\n",
              "      <td>0</td>\n",
              "      <td>8</td>\n",
              "      <td>bicycle light</td>\n",
              "      <td>МОСКВА</td>\n",
              "      <td>950</td>\n",
              "      <td>0</td>\n",
              "      <td>-391389</td>\n",
              "      <td>1</td>\n",
              "      <td>8546403</td>\n",
              "    </tr>\n",
              "    <tr>\n",
              "      <th>3</th>\n",
              "      <td>0_-1</td>\n",
              "      <td>102973</td>\n",
              "      <td>ММПО</td>\n",
              "      <td>7503</td>\n",
              "      <td>N</td>\n",
              "      <td>0</td>\n",
              "      <td>N</td>\n",
              "      <td>N</td>\n",
              "      <td>341</td>\n",
              "      <td>5</td>\n",
              "      <td>...</td>\n",
              "      <td>0</td>\n",
              "      <td>0</td>\n",
              "      <td>2</td>\n",
              "      <td>lamp tooth tube</td>\n",
              "      <td>МОСКВА</td>\n",
              "      <td>950</td>\n",
              "      <td>1</td>\n",
              "      <td>-1039197</td>\n",
              "      <td>1</td>\n",
              "      <td>9520850</td>\n",
              "    </tr>\n",
              "    <tr>\n",
              "      <th>4</th>\n",
              "      <td>0_-1</td>\n",
              "      <td>102973</td>\n",
              "      <td>ММПО</td>\n",
              "      <td>7503</td>\n",
              "      <td>N</td>\n",
              "      <td>0</td>\n",
              "      <td>N</td>\n",
              "      <td>N</td>\n",
              "      <td>448</td>\n",
              "      <td>5</td>\n",
              "      <td>...</td>\n",
              "      <td>1</td>\n",
              "      <td>0</td>\n",
              "      <td>2</td>\n",
              "      <td>shoulder bag</td>\n",
              "      <td>МОСКВА</td>\n",
              "      <td>950</td>\n",
              "      <td>2</td>\n",
              "      <td>-1039197</td>\n",
              "      <td>1</td>\n",
              "      <td>3189029</td>\n",
              "    </tr>\n",
              "    <tr>\n",
              "      <th>...</th>\n",
              "      <td>...</td>\n",
              "      <td>...</td>\n",
              "      <td>...</td>\n",
              "      <td>...</td>\n",
              "      <td>...</td>\n",
              "      <td>...</td>\n",
              "      <td>...</td>\n",
              "      <td>...</td>\n",
              "      <td>...</td>\n",
              "      <td>...</td>\n",
              "      <td>...</td>\n",
              "      <td>...</td>\n",
              "      <td>...</td>\n",
              "      <td>...</td>\n",
              "      <td>...</td>\n",
              "      <td>...</td>\n",
              "      <td>...</td>\n",
              "      <td>...</td>\n",
              "      <td>...</td>\n",
              "      <td>...</td>\n",
              "      <td>...</td>\n",
              "    </tr>\n",
              "    <tr>\n",
              "      <th>3999995</th>\n",
              "      <td>9_-1</td>\n",
              "      <td>690951</td>\n",
              "      <td>Цех</td>\n",
              "      <td>7503</td>\n",
              "      <td>N</td>\n",
              "      <td>0</td>\n",
              "      <td>N</td>\n",
              "      <td>N</td>\n",
              "      <td>1586</td>\n",
              "      <td>5</td>\n",
              "      <td>...</td>\n",
              "      <td>0</td>\n",
              "      <td>0</td>\n",
              "      <td>20</td>\n",
              "      <td>pantie</td>\n",
              "      <td>ПРИМОРСКИЙ КРАЙ</td>\n",
              "      <td>2938</td>\n",
              "      <td>0</td>\n",
              "      <td>-1971</td>\n",
              "      <td>1</td>\n",
              "      <td>7951997</td>\n",
              "    </tr>\n",
              "    <tr>\n",
              "      <th>3999996</th>\n",
              "      <td>9_-1</td>\n",
              "      <td>690951</td>\n",
              "      <td>Цех</td>\n",
              "      <td>7503</td>\n",
              "      <td>N</td>\n",
              "      <td>0</td>\n",
              "      <td>N</td>\n",
              "      <td>N</td>\n",
              "      <td>1594</td>\n",
              "      <td>5</td>\n",
              "      <td>...</td>\n",
              "      <td>0</td>\n",
              "      <td>0</td>\n",
              "      <td>2</td>\n",
              "      <td>die</td>\n",
              "      <td>ПРИМОРСКИЙ КРАЙ</td>\n",
              "      <td>2938</td>\n",
              "      <td>0</td>\n",
              "      <td>-1971</td>\n",
              "      <td>1</td>\n",
              "      <td>1285672</td>\n",
              "    </tr>\n",
              "    <tr>\n",
              "      <th>3999997</th>\n",
              "      <td>9_-1</td>\n",
              "      <td>690951</td>\n",
              "      <td>Цех</td>\n",
              "      <td>7503</td>\n",
              "      <td>N</td>\n",
              "      <td>0</td>\n",
              "      <td>N</td>\n",
              "      <td>N</td>\n",
              "      <td>1595</td>\n",
              "      <td>5</td>\n",
              "      <td>...</td>\n",
              "      <td>0</td>\n",
              "      <td>0</td>\n",
              "      <td>2</td>\n",
              "      <td>shoulder bag</td>\n",
              "      <td>ПРИМОРСКИЙ КРАЙ</td>\n",
              "      <td>2938</td>\n",
              "      <td>0</td>\n",
              "      <td>-1971</td>\n",
              "      <td>1</td>\n",
              "      <td>296884</td>\n",
              "    </tr>\n",
              "    <tr>\n",
              "      <th>3999998</th>\n",
              "      <td>9_-1</td>\n",
              "      <td>690951</td>\n",
              "      <td>Цех</td>\n",
              "      <td>7503</td>\n",
              "      <td>N</td>\n",
              "      <td>0</td>\n",
              "      <td>N</td>\n",
              "      <td>N</td>\n",
              "      <td>1604</td>\n",
              "      <td>5</td>\n",
              "      <td>...</td>\n",
              "      <td>0</td>\n",
              "      <td>0</td>\n",
              "      <td>2</td>\n",
              "      <td>sheet</td>\n",
              "      <td>ПРИМОРСКИЙ КРАЙ</td>\n",
              "      <td>2938</td>\n",
              "      <td>0</td>\n",
              "      <td>-1971</td>\n",
              "      <td>1</td>\n",
              "      <td>6833383</td>\n",
              "    </tr>\n",
              "    <tr>\n",
              "      <th>3999999</th>\n",
              "      <td>9_-1</td>\n",
              "      <td>690951</td>\n",
              "      <td>Цех</td>\n",
              "      <td>7503</td>\n",
              "      <td>N</td>\n",
              "      <td>0</td>\n",
              "      <td>N</td>\n",
              "      <td>N</td>\n",
              "      <td>1996</td>\n",
              "      <td>5</td>\n",
              "      <td>...</td>\n",
              "      <td>0</td>\n",
              "      <td>0</td>\n",
              "      <td>26</td>\n",
              "      <td>t shirt</td>\n",
              "      <td>ПРИМОРСКИЙ КРАЙ</td>\n",
              "      <td>2938</td>\n",
              "      <td>0</td>\n",
              "      <td>-1971</td>\n",
              "      <td>1</td>\n",
              "      <td>5625730</td>\n",
              "    </tr>\n",
              "  </tbody>\n",
              "</table>\n",
              "<p>4000000 rows × 34 columns</p>\n",
              "</div>\n",
              "      <button class=\"colab-df-convert\" onclick=\"convertToInteractive('df-fc7b50e7-125d-42e1-aa18-d1f4fb5293e2')\"\n",
              "              title=\"Convert this dataframe to an interactive table.\"\n",
              "              style=\"display:none;\">\n",
              "        \n",
              "  <svg xmlns=\"http://www.w3.org/2000/svg\" height=\"24px\"viewBox=\"0 0 24 24\"\n",
              "       width=\"24px\">\n",
              "    <path d=\"M0 0h24v24H0V0z\" fill=\"none\"/>\n",
              "    <path d=\"M18.56 5.44l.94 2.06.94-2.06 2.06-.94-2.06-.94-.94-2.06-.94 2.06-2.06.94zm-11 1L8.5 8.5l.94-2.06 2.06-.94-2.06-.94L8.5 2.5l-.94 2.06-2.06.94zm10 10l.94 2.06.94-2.06 2.06-.94-2.06-.94-.94-2.06-.94 2.06-2.06.94z\"/><path d=\"M17.41 7.96l-1.37-1.37c-.4-.4-.92-.59-1.43-.59-.52 0-1.04.2-1.43.59L10.3 9.45l-7.72 7.72c-.78.78-.78 2.05 0 2.83L4 21.41c.39.39.9.59 1.41.59.51 0 1.02-.2 1.41-.59l7.78-7.78 2.81-2.81c.8-.78.8-2.07 0-2.86zM5.41 20L4 18.59l7.72-7.72 1.47 1.35L5.41 20z\"/>\n",
              "  </svg>\n",
              "      </button>\n",
              "      \n",
              "  <style>\n",
              "    .colab-df-container {\n",
              "      display:flex;\n",
              "      flex-wrap:wrap;\n",
              "      gap: 12px;\n",
              "    }\n",
              "\n",
              "    .colab-df-convert {\n",
              "      background-color: #E8F0FE;\n",
              "      border: none;\n",
              "      border-radius: 50%;\n",
              "      cursor: pointer;\n",
              "      display: none;\n",
              "      fill: #1967D2;\n",
              "      height: 32px;\n",
              "      padding: 0 0 0 0;\n",
              "      width: 32px;\n",
              "    }\n",
              "\n",
              "    .colab-df-convert:hover {\n",
              "      background-color: #E2EBFA;\n",
              "      box-shadow: 0px 1px 2px rgba(60, 64, 67, 0.3), 0px 1px 3px 1px rgba(60, 64, 67, 0.15);\n",
              "      fill: #174EA6;\n",
              "    }\n",
              "\n",
              "    [theme=dark] .colab-df-convert {\n",
              "      background-color: #3B4455;\n",
              "      fill: #D2E3FC;\n",
              "    }\n",
              "\n",
              "    [theme=dark] .colab-df-convert:hover {\n",
              "      background-color: #434B5C;\n",
              "      box-shadow: 0px 1px 3px 1px rgba(0, 0, 0, 0.15);\n",
              "      filter: drop-shadow(0px 1px 2px rgba(0, 0, 0, 0.3));\n",
              "      fill: #FFFFFF;\n",
              "    }\n",
              "  </style>\n",
              "\n",
              "      <script>\n",
              "        const buttonEl =\n",
              "          document.querySelector('#df-fc7b50e7-125d-42e1-aa18-d1f4fb5293e2 button.colab-df-convert');\n",
              "        buttonEl.style.display =\n",
              "          google.colab.kernel.accessAllowed ? 'block' : 'none';\n",
              "\n",
              "        async function convertToInteractive(key) {\n",
              "          const element = document.querySelector('#df-fc7b50e7-125d-42e1-aa18-d1f4fb5293e2');\n",
              "          const dataTable =\n",
              "            await google.colab.kernel.invokeFunction('convertToInteractive',\n",
              "                                                     [key], {});\n",
              "          if (!dataTable) return;\n",
              "\n",
              "          const docLinkHtml = 'Like what you see? Visit the ' +\n",
              "            '<a target=\"_blank\" href=https://colab.research.google.com/notebooks/data_table.ipynb>data table notebook</a>'\n",
              "            + ' to learn more about interactive tables.';\n",
              "          element.innerHTML = '';\n",
              "          dataTable['output_type'] = 'display_data';\n",
              "          await google.colab.output.renderOutput(dataTable, element);\n",
              "          const docLink = document.createElement('div');\n",
              "          docLink.innerHTML = docLinkHtml;\n",
              "          element.appendChild(docLink);\n",
              "        }\n",
              "      </script>\n",
              "    </div>\n",
              "  </div>\n",
              "  "
            ]
          },
          "metadata": {}
        }
      ],
      "source": [
        "del df_clust_mfi\n",
        "gc.collect()\n",
        "df_test_1 = df_test\n",
        "df_test = df_test.drop(['id'], axis=1).groupby(df_test.drop(['id'], axis=1).columns.tolist (), as_index= False ). size ()\n",
        "res = pd.merge(df_test, df_test_1, how='left', left_on=list(df_test.columns)[0:-1], right_on=list(df_test.columns)[0:-1])\n",
        "display(res)"
      ]
    },
    {
      "cell_type": "code",
      "source": [
        " res.isnull().sum()"
      ],
      "metadata": {
        "colab": {
          "base_uri": "https://localhost:8080/"
        },
        "id": "SUIw35ZF9Y9L",
        "outputId": "4d6c080a-7a85-43e7-de66-d68fbaa7bd06"
      },
      "id": "SUIw35ZF9Y9L",
      "execution_count": null,
      "outputs": [
        {
          "output_type": "execute_result",
          "data": {
            "text/plain": [
              "oper_type + oper_attr            0\n",
              "index_oper                       0\n",
              "type                             0\n",
              "priority                         0\n",
              "is_privatecategory               0\n",
              "class                            0\n",
              "is_in_yandex                     0\n",
              "is_return                        0\n",
              "weight                           0\n",
              "mailtype                         0\n",
              "mailctg                          0\n",
              "mailrank                         0\n",
              "directctg                        0\n",
              "transport_pay                    0\n",
              "postmark                         0\n",
              "weight_mfi                       0\n",
              "price_mfi                        0\n",
              "dist_qty_oper_login_1            0\n",
              "total_qty_oper_login_1           0\n",
              "total_qty_oper_login_0           0\n",
              "total_qty_over_index_and_type    0\n",
              "total_qty_over_index             0\n",
              "is_wrong_sndr_name               0\n",
              "is_wrong_rcpn_name               0\n",
              "is_wrong_phone_number            0\n",
              "is_wrong_address                 0\n",
              "mfi_clust                        0\n",
              "mfi_lang_lemm                    0\n",
              "city                             0\n",
              "actlife                          0\n",
              "wrong                            0\n",
              "total_qty_over_type              0\n",
              "size                             0\n",
              "id                               0\n",
              "dtype: int64"
            ]
          },
          "metadata": {},
          "execution_count": 28
        }
      ]
    },
    {
      "cell_type": "code",
      "source": [
        "display(res['id'].value_counts())\n",
        "res = res.drop_duplicates()\n",
        "display(res)"
      ],
      "metadata": {
        "colab": {
          "base_uri": "https://localhost:8080/",
          "height": 830
        },
        "id": "qHTEqGAj4gkS",
        "outputId": "72a472f4-8497-4b62-9c6b-5f7a6c470744"
      },
      "id": "qHTEqGAj4gkS",
      "execution_count": null,
      "outputs": [
        {
          "output_type": "display_data",
          "data": {
            "text/plain": [
              "5341871    1\n",
              "2031191    1\n",
              "2158616    1\n",
              "1314512    1\n",
              "327499     1\n",
              "          ..\n",
              "8674316    1\n",
              "3074694    1\n",
              "1865021    1\n",
              "493243     1\n",
              "5625730    1\n",
              "Name: id, Length: 4000000, dtype: int64"
            ]
          },
          "metadata": {}
        },
        {
          "output_type": "display_data",
          "data": {
            "text/plain": [
              "        oper_type + oper_attr  index_oper  type  priority is_privatecategory  \\\n",
              "0                        0_-1      102973  ММПО      7503                  N   \n",
              "1                        0_-1      102973  ММПО      7503                  N   \n",
              "2                        0_-1      102973  ММПО      7503                  N   \n",
              "3                        0_-1      102973  ММПО      7503                  N   \n",
              "4                        0_-1      102973  ММПО      7503                  N   \n",
              "...                       ...         ...   ...       ...                ...   \n",
              "3999995                  9_-1      690951   Цех      7503                  N   \n",
              "3999996                  9_-1      690951   Цех      7503                  N   \n",
              "3999997                  9_-1      690951   Цех      7503                  N   \n",
              "3999998                  9_-1      690951   Цех      7503                  N   \n",
              "3999999                  9_-1      690951   Цех      7503                  N   \n",
              "\n",
              "         class is_in_yandex is_return  weight mailtype  ...  \\\n",
              "0            0            N         N      63        5  ...   \n",
              "1            0            N         N     115        5  ...   \n",
              "2            0            N         N     180        7  ...   \n",
              "3            0            N         N     341        5  ...   \n",
              "4            0            N         N     448        5  ...   \n",
              "...        ...          ...       ...     ...      ...  ...   \n",
              "3999995      0            N         N    1586        5  ...   \n",
              "3999996      0            N         N    1594        5  ...   \n",
              "3999997      0            N         N    1595        5  ...   \n",
              "3999998      0            N         N    1604        5  ...   \n",
              "3999999      0            N         N    1996        5  ...   \n",
              "\n",
              "         is_wrong_phone_number is_wrong_address  mfi_clust     mfi_lang_lemm  \\\n",
              "0                            0                0          2     processor e v   \n",
              "1                            0                0          2  belt vz redbrown   \n",
              "2                            0                0          8     bicycle light   \n",
              "3                            0                0          2   lamp tooth tube   \n",
              "4                            1                0          2      shoulder bag   \n",
              "...                        ...              ...        ...               ...   \n",
              "3999995                      0                0         20            pantie   \n",
              "3999996                      0                0          2               die   \n",
              "3999997                      0                0          2      shoulder bag   \n",
              "3999998                      0                0          2             sheet   \n",
              "3999999                      0                0         26           t shirt   \n",
              "\n",
              "                    city  actlife  wrong  total_qty_over_type  size       id  \n",
              "0                 МОСКВА      950      0             -1039197     1  5341871  \n",
              "1                 МОСКВА      950      0             -1039197     1  5218956  \n",
              "2                 МОСКВА      950      0              -391389     1  8546403  \n",
              "3                 МОСКВА      950      1             -1039197     1  9520850  \n",
              "4                 МОСКВА      950      2             -1039197     1  3189029  \n",
              "...                  ...      ...    ...                  ...   ...      ...  \n",
              "3999995  ПРИМОРСКИЙ КРАЙ     2938      0                -1971     1  7951997  \n",
              "3999996  ПРИМОРСКИЙ КРАЙ     2938      0                -1971     1  1285672  \n",
              "3999997  ПРИМОРСКИЙ КРАЙ     2938      0                -1971     1   296884  \n",
              "3999998  ПРИМОРСКИЙ КРАЙ     2938      0                -1971     1  6833383  \n",
              "3999999  ПРИМОРСКИЙ КРАЙ     2938      0                -1971     1  5625730  \n",
              "\n",
              "[4000000 rows x 34 columns]"
            ],
            "text/html": [
              "\n",
              "  <div id=\"df-8691c3a4-2b69-4625-9a5d-316b948db63a\">\n",
              "    <div class=\"colab-df-container\">\n",
              "      <div>\n",
              "<style scoped>\n",
              "    .dataframe tbody tr th:only-of-type {\n",
              "        vertical-align: middle;\n",
              "    }\n",
              "\n",
              "    .dataframe tbody tr th {\n",
              "        vertical-align: top;\n",
              "    }\n",
              "\n",
              "    .dataframe thead th {\n",
              "        text-align: right;\n",
              "    }\n",
              "</style>\n",
              "<table border=\"1\" class=\"dataframe\">\n",
              "  <thead>\n",
              "    <tr style=\"text-align: right;\">\n",
              "      <th></th>\n",
              "      <th>oper_type + oper_attr</th>\n",
              "      <th>index_oper</th>\n",
              "      <th>type</th>\n",
              "      <th>priority</th>\n",
              "      <th>is_privatecategory</th>\n",
              "      <th>class</th>\n",
              "      <th>is_in_yandex</th>\n",
              "      <th>is_return</th>\n",
              "      <th>weight</th>\n",
              "      <th>mailtype</th>\n",
              "      <th>...</th>\n",
              "      <th>is_wrong_phone_number</th>\n",
              "      <th>is_wrong_address</th>\n",
              "      <th>mfi_clust</th>\n",
              "      <th>mfi_lang_lemm</th>\n",
              "      <th>city</th>\n",
              "      <th>actlife</th>\n",
              "      <th>wrong</th>\n",
              "      <th>total_qty_over_type</th>\n",
              "      <th>size</th>\n",
              "      <th>id</th>\n",
              "    </tr>\n",
              "  </thead>\n",
              "  <tbody>\n",
              "    <tr>\n",
              "      <th>0</th>\n",
              "      <td>0_-1</td>\n",
              "      <td>102973</td>\n",
              "      <td>ММПО</td>\n",
              "      <td>7503</td>\n",
              "      <td>N</td>\n",
              "      <td>0</td>\n",
              "      <td>N</td>\n",
              "      <td>N</td>\n",
              "      <td>63</td>\n",
              "      <td>5</td>\n",
              "      <td>...</td>\n",
              "      <td>0</td>\n",
              "      <td>0</td>\n",
              "      <td>2</td>\n",
              "      <td>processor e v</td>\n",
              "      <td>МОСКВА</td>\n",
              "      <td>950</td>\n",
              "      <td>0</td>\n",
              "      <td>-1039197</td>\n",
              "      <td>1</td>\n",
              "      <td>5341871</td>\n",
              "    </tr>\n",
              "    <tr>\n",
              "      <th>1</th>\n",
              "      <td>0_-1</td>\n",
              "      <td>102973</td>\n",
              "      <td>ММПО</td>\n",
              "      <td>7503</td>\n",
              "      <td>N</td>\n",
              "      <td>0</td>\n",
              "      <td>N</td>\n",
              "      <td>N</td>\n",
              "      <td>115</td>\n",
              "      <td>5</td>\n",
              "      <td>...</td>\n",
              "      <td>0</td>\n",
              "      <td>0</td>\n",
              "      <td>2</td>\n",
              "      <td>belt vz redbrown</td>\n",
              "      <td>МОСКВА</td>\n",
              "      <td>950</td>\n",
              "      <td>0</td>\n",
              "      <td>-1039197</td>\n",
              "      <td>1</td>\n",
              "      <td>5218956</td>\n",
              "    </tr>\n",
              "    <tr>\n",
              "      <th>2</th>\n",
              "      <td>0_-1</td>\n",
              "      <td>102973</td>\n",
              "      <td>ММПО</td>\n",
              "      <td>7503</td>\n",
              "      <td>N</td>\n",
              "      <td>0</td>\n",
              "      <td>N</td>\n",
              "      <td>N</td>\n",
              "      <td>180</td>\n",
              "      <td>7</td>\n",
              "      <td>...</td>\n",
              "      <td>0</td>\n",
              "      <td>0</td>\n",
              "      <td>8</td>\n",
              "      <td>bicycle light</td>\n",
              "      <td>МОСКВА</td>\n",
              "      <td>950</td>\n",
              "      <td>0</td>\n",
              "      <td>-391389</td>\n",
              "      <td>1</td>\n",
              "      <td>8546403</td>\n",
              "    </tr>\n",
              "    <tr>\n",
              "      <th>3</th>\n",
              "      <td>0_-1</td>\n",
              "      <td>102973</td>\n",
              "      <td>ММПО</td>\n",
              "      <td>7503</td>\n",
              "      <td>N</td>\n",
              "      <td>0</td>\n",
              "      <td>N</td>\n",
              "      <td>N</td>\n",
              "      <td>341</td>\n",
              "      <td>5</td>\n",
              "      <td>...</td>\n",
              "      <td>0</td>\n",
              "      <td>0</td>\n",
              "      <td>2</td>\n",
              "      <td>lamp tooth tube</td>\n",
              "      <td>МОСКВА</td>\n",
              "      <td>950</td>\n",
              "      <td>1</td>\n",
              "      <td>-1039197</td>\n",
              "      <td>1</td>\n",
              "      <td>9520850</td>\n",
              "    </tr>\n",
              "    <tr>\n",
              "      <th>4</th>\n",
              "      <td>0_-1</td>\n",
              "      <td>102973</td>\n",
              "      <td>ММПО</td>\n",
              "      <td>7503</td>\n",
              "      <td>N</td>\n",
              "      <td>0</td>\n",
              "      <td>N</td>\n",
              "      <td>N</td>\n",
              "      <td>448</td>\n",
              "      <td>5</td>\n",
              "      <td>...</td>\n",
              "      <td>1</td>\n",
              "      <td>0</td>\n",
              "      <td>2</td>\n",
              "      <td>shoulder bag</td>\n",
              "      <td>МОСКВА</td>\n",
              "      <td>950</td>\n",
              "      <td>2</td>\n",
              "      <td>-1039197</td>\n",
              "      <td>1</td>\n",
              "      <td>3189029</td>\n",
              "    </tr>\n",
              "    <tr>\n",
              "      <th>...</th>\n",
              "      <td>...</td>\n",
              "      <td>...</td>\n",
              "      <td>...</td>\n",
              "      <td>...</td>\n",
              "      <td>...</td>\n",
              "      <td>...</td>\n",
              "      <td>...</td>\n",
              "      <td>...</td>\n",
              "      <td>...</td>\n",
              "      <td>...</td>\n",
              "      <td>...</td>\n",
              "      <td>...</td>\n",
              "      <td>...</td>\n",
              "      <td>...</td>\n",
              "      <td>...</td>\n",
              "      <td>...</td>\n",
              "      <td>...</td>\n",
              "      <td>...</td>\n",
              "      <td>...</td>\n",
              "      <td>...</td>\n",
              "      <td>...</td>\n",
              "    </tr>\n",
              "    <tr>\n",
              "      <th>3999995</th>\n",
              "      <td>9_-1</td>\n",
              "      <td>690951</td>\n",
              "      <td>Цех</td>\n",
              "      <td>7503</td>\n",
              "      <td>N</td>\n",
              "      <td>0</td>\n",
              "      <td>N</td>\n",
              "      <td>N</td>\n",
              "      <td>1586</td>\n",
              "      <td>5</td>\n",
              "      <td>...</td>\n",
              "      <td>0</td>\n",
              "      <td>0</td>\n",
              "      <td>20</td>\n",
              "      <td>pantie</td>\n",
              "      <td>ПРИМОРСКИЙ КРАЙ</td>\n",
              "      <td>2938</td>\n",
              "      <td>0</td>\n",
              "      <td>-1971</td>\n",
              "      <td>1</td>\n",
              "      <td>7951997</td>\n",
              "    </tr>\n",
              "    <tr>\n",
              "      <th>3999996</th>\n",
              "      <td>9_-1</td>\n",
              "      <td>690951</td>\n",
              "      <td>Цех</td>\n",
              "      <td>7503</td>\n",
              "      <td>N</td>\n",
              "      <td>0</td>\n",
              "      <td>N</td>\n",
              "      <td>N</td>\n",
              "      <td>1594</td>\n",
              "      <td>5</td>\n",
              "      <td>...</td>\n",
              "      <td>0</td>\n",
              "      <td>0</td>\n",
              "      <td>2</td>\n",
              "      <td>die</td>\n",
              "      <td>ПРИМОРСКИЙ КРАЙ</td>\n",
              "      <td>2938</td>\n",
              "      <td>0</td>\n",
              "      <td>-1971</td>\n",
              "      <td>1</td>\n",
              "      <td>1285672</td>\n",
              "    </tr>\n",
              "    <tr>\n",
              "      <th>3999997</th>\n",
              "      <td>9_-1</td>\n",
              "      <td>690951</td>\n",
              "      <td>Цех</td>\n",
              "      <td>7503</td>\n",
              "      <td>N</td>\n",
              "      <td>0</td>\n",
              "      <td>N</td>\n",
              "      <td>N</td>\n",
              "      <td>1595</td>\n",
              "      <td>5</td>\n",
              "      <td>...</td>\n",
              "      <td>0</td>\n",
              "      <td>0</td>\n",
              "      <td>2</td>\n",
              "      <td>shoulder bag</td>\n",
              "      <td>ПРИМОРСКИЙ КРАЙ</td>\n",
              "      <td>2938</td>\n",
              "      <td>0</td>\n",
              "      <td>-1971</td>\n",
              "      <td>1</td>\n",
              "      <td>296884</td>\n",
              "    </tr>\n",
              "    <tr>\n",
              "      <th>3999998</th>\n",
              "      <td>9_-1</td>\n",
              "      <td>690951</td>\n",
              "      <td>Цех</td>\n",
              "      <td>7503</td>\n",
              "      <td>N</td>\n",
              "      <td>0</td>\n",
              "      <td>N</td>\n",
              "      <td>N</td>\n",
              "      <td>1604</td>\n",
              "      <td>5</td>\n",
              "      <td>...</td>\n",
              "      <td>0</td>\n",
              "      <td>0</td>\n",
              "      <td>2</td>\n",
              "      <td>sheet</td>\n",
              "      <td>ПРИМОРСКИЙ КРАЙ</td>\n",
              "      <td>2938</td>\n",
              "      <td>0</td>\n",
              "      <td>-1971</td>\n",
              "      <td>1</td>\n",
              "      <td>6833383</td>\n",
              "    </tr>\n",
              "    <tr>\n",
              "      <th>3999999</th>\n",
              "      <td>9_-1</td>\n",
              "      <td>690951</td>\n",
              "      <td>Цех</td>\n",
              "      <td>7503</td>\n",
              "      <td>N</td>\n",
              "      <td>0</td>\n",
              "      <td>N</td>\n",
              "      <td>N</td>\n",
              "      <td>1996</td>\n",
              "      <td>5</td>\n",
              "      <td>...</td>\n",
              "      <td>0</td>\n",
              "      <td>0</td>\n",
              "      <td>26</td>\n",
              "      <td>t shirt</td>\n",
              "      <td>ПРИМОРСКИЙ КРАЙ</td>\n",
              "      <td>2938</td>\n",
              "      <td>0</td>\n",
              "      <td>-1971</td>\n",
              "      <td>1</td>\n",
              "      <td>5625730</td>\n",
              "    </tr>\n",
              "  </tbody>\n",
              "</table>\n",
              "<p>4000000 rows × 34 columns</p>\n",
              "</div>\n",
              "      <button class=\"colab-df-convert\" onclick=\"convertToInteractive('df-8691c3a4-2b69-4625-9a5d-316b948db63a')\"\n",
              "              title=\"Convert this dataframe to an interactive table.\"\n",
              "              style=\"display:none;\">\n",
              "        \n",
              "  <svg xmlns=\"http://www.w3.org/2000/svg\" height=\"24px\"viewBox=\"0 0 24 24\"\n",
              "       width=\"24px\">\n",
              "    <path d=\"M0 0h24v24H0V0z\" fill=\"none\"/>\n",
              "    <path d=\"M18.56 5.44l.94 2.06.94-2.06 2.06-.94-2.06-.94-.94-2.06-.94 2.06-2.06.94zm-11 1L8.5 8.5l.94-2.06 2.06-.94-2.06-.94L8.5 2.5l-.94 2.06-2.06.94zm10 10l.94 2.06.94-2.06 2.06-.94-2.06-.94-.94-2.06-.94 2.06-2.06.94z\"/><path d=\"M17.41 7.96l-1.37-1.37c-.4-.4-.92-.59-1.43-.59-.52 0-1.04.2-1.43.59L10.3 9.45l-7.72 7.72c-.78.78-.78 2.05 0 2.83L4 21.41c.39.39.9.59 1.41.59.51 0 1.02-.2 1.41-.59l7.78-7.78 2.81-2.81c.8-.78.8-2.07 0-2.86zM5.41 20L4 18.59l7.72-7.72 1.47 1.35L5.41 20z\"/>\n",
              "  </svg>\n",
              "      </button>\n",
              "      \n",
              "  <style>\n",
              "    .colab-df-container {\n",
              "      display:flex;\n",
              "      flex-wrap:wrap;\n",
              "      gap: 12px;\n",
              "    }\n",
              "\n",
              "    .colab-df-convert {\n",
              "      background-color: #E8F0FE;\n",
              "      border: none;\n",
              "      border-radius: 50%;\n",
              "      cursor: pointer;\n",
              "      display: none;\n",
              "      fill: #1967D2;\n",
              "      height: 32px;\n",
              "      padding: 0 0 0 0;\n",
              "      width: 32px;\n",
              "    }\n",
              "\n",
              "    .colab-df-convert:hover {\n",
              "      background-color: #E2EBFA;\n",
              "      box-shadow: 0px 1px 2px rgba(60, 64, 67, 0.3), 0px 1px 3px 1px rgba(60, 64, 67, 0.15);\n",
              "      fill: #174EA6;\n",
              "    }\n",
              "\n",
              "    [theme=dark] .colab-df-convert {\n",
              "      background-color: #3B4455;\n",
              "      fill: #D2E3FC;\n",
              "    }\n",
              "\n",
              "    [theme=dark] .colab-df-convert:hover {\n",
              "      background-color: #434B5C;\n",
              "      box-shadow: 0px 1px 3px 1px rgba(0, 0, 0, 0.15);\n",
              "      filter: drop-shadow(0px 1px 2px rgba(0, 0, 0, 0.3));\n",
              "      fill: #FFFFFF;\n",
              "    }\n",
              "  </style>\n",
              "\n",
              "      <script>\n",
              "        const buttonEl =\n",
              "          document.querySelector('#df-8691c3a4-2b69-4625-9a5d-316b948db63a button.colab-df-convert');\n",
              "        buttonEl.style.display =\n",
              "          google.colab.kernel.accessAllowed ? 'block' : 'none';\n",
              "\n",
              "        async function convertToInteractive(key) {\n",
              "          const element = document.querySelector('#df-8691c3a4-2b69-4625-9a5d-316b948db63a');\n",
              "          const dataTable =\n",
              "            await google.colab.kernel.invokeFunction('convertToInteractive',\n",
              "                                                     [key], {});\n",
              "          if (!dataTable) return;\n",
              "\n",
              "          const docLinkHtml = 'Like what you see? Visit the ' +\n",
              "            '<a target=\"_blank\" href=https://colab.research.google.com/notebooks/data_table.ipynb>data table notebook</a>'\n",
              "            + ' to learn more about interactive tables.';\n",
              "          element.innerHTML = '';\n",
              "          dataTable['output_type'] = 'display_data';\n",
              "          await google.colab.output.renderOutput(dataTable, element);\n",
              "          const docLink = document.createElement('div');\n",
              "          docLink.innerHTML = docLinkHtml;\n",
              "          element.appendChild(docLink);\n",
              "        }\n",
              "      </script>\n",
              "    </div>\n",
              "  </div>\n",
              "  "
            ]
          },
          "metadata": {}
        }
      ]
    },
    {
      "cell_type": "code",
      "source": [
        "for i in col_obj_2:\n",
        "    res[i] = res[i].astype('category')\n",
        "print(df.info())"
      ],
      "metadata": {
        "id": "qLY6HUBzmo3E"
      },
      "id": "qLY6HUBzmo3E",
      "execution_count": null,
      "outputs": []
    },
    {
      "cell_type": "code",
      "execution_count": null,
      "id": "SXR8XBr99r7U",
      "metadata": {
        "id": "SXR8XBr99r7U"
      },
      "outputs": [],
      "source": [
        "model = clf.load_model('content/catboost.bin', format='cbm')"
      ]
    },
    {
      "cell_type": "code",
      "execution_count": null,
      "id": "m4UpLpr5cgdZ",
      "metadata": {
        "id": "m4UpLpr5cgdZ"
      },
      "outputs": [],
      "source": [
        "\n",
        "\n",
        "gc.collect()"
      ]
    },
    {
      "cell_type": "code",
      "execution_count": null,
      "id": "ccc6334b-1765-4dd1-ba87-895315974da9",
      "metadata": {
        "id": "ccc6334b-1765-4dd1-ba87-895315974da9",
        "colab": {
          "base_uri": "https://localhost:8080/",
          "height": 193
        },
        "outputId": "bf7e16cf-7906-4125-ec62-b2fcb9234e1e"
      },
      "outputs": [
        {
          "output_type": "error",
          "ename": "AttributeError",
          "evalue": "ignored",
          "traceback": [
            "\u001b[0;31m---------------------------------------------------------------------------\u001b[0m",
            "\u001b[0;31mAttributeError\u001b[0m                            Traceback (most recent call last)",
            "\u001b[0;32m<ipython-input-43-d02e1e226597>\u001b[0m in \u001b[0;36m<module>\u001b[0;34m\u001b[0m\n\u001b[0;32m----> 1\u001b[0;31m \u001b[0mres\u001b[0m\u001b[0;34m[\u001b[0m\u001b[0;34m'label'\u001b[0m\u001b[0;34m]\u001b[0m \u001b[0;34m=\u001b[0m \u001b[0mscores\u001b[0m\u001b[0;34m[\u001b[0m\u001b[0;36m1\u001b[0m\u001b[0;34m]\u001b[0m\u001b[0;34m.\u001b[0m\u001b[0mpredict\u001b[0m\u001b[0;34m(\u001b[0m\u001b[0mres\u001b[0m\u001b[0;34m.\u001b[0m\u001b[0mdrop\u001b[0m\u001b[0;34m(\u001b[0m\u001b[0;34m[\u001b[0m\u001b[0;34m'id'\u001b[0m\u001b[0;34m,\u001b[0m\u001b[0;34m'is_wrong_sndr_name'\u001b[0m \u001b[0;34m,\u001b[0m\u001b[0;34m'is_wrong_rcpn_name'\u001b[0m\u001b[0;34m,\u001b[0m \u001b[0;34m'is_wrong_phone_number'\u001b[0m\u001b[0;34m,\u001b[0m \u001b[0;34m'is_wrong_address'\u001b[0m\u001b[0;34m,\u001b[0m\u001b[0;34m'mailrank'\u001b[0m\u001b[0;34m,\u001b[0m\u001b[0;34m'is_in_yandex'\u001b[0m\u001b[0;34m,\u001b[0m \u001b[0;34m'is_return'\u001b[0m\u001b[0;34m,\u001b[0m\u001b[0;34m'postmark'\u001b[0m\u001b[0;34m,\u001b[0m\u001b[0;34m'mailtype'\u001b[0m\u001b[0;34m,\u001b[0m\u001b[0;34m'is_privatecategory'\u001b[0m\u001b[0;34m]\u001b[0m\u001b[0;34m,\u001b[0m \u001b[0maxis\u001b[0m \u001b[0;34m=\u001b[0m \u001b[0;36m1\u001b[0m\u001b[0;34m,\u001b[0m \u001b[0minplace\u001b[0m \u001b[0;34m=\u001b[0m \u001b[0;32mFalse\u001b[0m\u001b[0;34m)\u001b[0m\u001b[0;34m)\u001b[0m\u001b[0;34m\u001b[0m\u001b[0;34m\u001b[0m\u001b[0m\n\u001b[0m",
            "\u001b[0;31mAttributeError\u001b[0m: 'list' object has no attribute 'predict'"
          ]
        }
      ],
      "source": [
        "res['label'] = model.predict(res.drop(['id'], axis = 1, inplace = False))\n",
        "res['label_score'] = model.predict_proba(res.drop(['id'], axis = 1, inplace = False))[:,1]\n",
        "res['final_label'] = (res['label_score'] >= value_p) * 1\n"
      ]
    },
    {
      "cell_type": "code",
      "execution_count": null,
      "id": "6f5a390f-9adf-48b6-9abf-be4a6856274d",
      "metadata": {
        "id": "6f5a390f-9adf-48b6-9abf-be4a6856274d",
        "colab": {
          "base_uri": "https://localhost:8080/"
        },
        "outputId": "0abb45f6-444c-4596-e229-0c6cd3600971"
      },
      "outputs": [
        {
          "output_type": "stream",
          "name": "stdout",
          "text": [
            "              id     label\n",
            "0        5341871 -8.786956\n",
            "1        5218956 -8.979240\n",
            "2        8546403 -8.352996\n",
            "3        9520850 -8.697261\n",
            "4        3189029 -9.300814\n",
            "...          ...       ...\n",
            "3999995  7951997 -8.280688\n",
            "3999996  1285672 -8.240862\n",
            "3999997   296884 -8.180716\n",
            "3999998  6833383 -8.152026\n",
            "3999999  5625730 -8.452248\n",
            "\n",
            "[4000000 rows x 2 columns]\n"
          ]
        }
      ],
      "source": [
        "res[['id', 'label']]"
      ]
    },
    {
      "cell_type": "code",
      "execution_count": null,
      "id": "6ffc4a79-4495-4c71-9150-e56a7bd5acf6",
      "metadata": {
        "id": "6ffc4a79-4495-4c71-9150-e56a7bd5acf6"
      },
      "outputs": [],
      "source": [
        "import csv\n",
        "d = res[['id', 'final_label']]\n",
        "d.to_csv('file_last.csv', sep = ',',index=False, line_terminator = '\\n')"
      ]
    },
    {
      "cell_type": "code",
      "execution_count": null,
      "id": "949549f8-d88d-45c5-81a3-f71596caa81d",
      "metadata": {
        "id": "949549f8-d88d-45c5-81a3-f71596caa81d"
      },
      "outputs": [],
      "source": [
        "test = pd.read_csv(\"file.csv\")"
      ]
    },
    {
      "cell_type": "code",
      "execution_count": null,
      "id": "54afac4e-ca5b-48e8-9024-67890b0aa5e6",
      "metadata": {
        "id": "54afac4e-ca5b-48e8-9024-67890b0aa5e6",
        "outputId": "0333e1b0-bfd1-44ba-ee41-f477cd535669"
      },
      "outputs": [
        {
          "name": "stdout",
          "output_type": "stream",
          "text": [
            "              id  label\n",
            "0        7815282      0\n",
            "1        8443555      0\n",
            "2        6352559      0\n",
            "3        4921420      0\n",
            "4        1420440      0\n",
            "...          ...    ...\n",
            "3999995  9030800      0\n",
            "3999996  6275048      0\n",
            "3999997  4701757      0\n",
            "3999998   611153      0\n",
            "3999999  7776936      0\n",
            "\n",
            "[4000000 rows x 2 columns]\n"
          ]
        }
      ],
      "source": [
        "print(test)"
      ]
    },
    {
      "cell_type": "code",
      "execution_count": null,
      "id": "694070c3-5257-454e-baf7-0cee66e0f898",
      "metadata": {
        "id": "694070c3-5257-454e-baf7-0cee66e0f898"
      },
      "outputs": [],
      "source": [
        "cat_wine_imp = pd.Series(clf.get_feature_importance(),\n",
        "                         res.drop(['id','label','is_wrong_sndr_name' ,'is_wrong_rcpn_name', 'is_wrong_phone_number', 'is_wrong_address','mailrank','is_in_yandex', 'is_return','postmark','mailtype','is_privatecategory'], axis=1).columns)\n",
        "fig, ax = plt.subplots(figsize=(16,14))\n",
        "cat_wine_imp.plot.bar(ax=ax)\n",
        "ax.set_title(\"Важность признаков\")\n",
        "fig.tight_layout()"
      ]
    },
    {
      "cell_type": "code",
      "execution_count": null,
      "id": "fae5381b-25a3-4461-9872-1b37ec4f44b2",
      "metadata": {
        "id": "fae5381b-25a3-4461-9872-1b37ec4f44b2"
      },
      "outputs": [],
      "source": []
    }
  ],
  "metadata": {
    "accelerator": "GPU",
    "colab": {
      "provenance": [],
      "collapsed_sections": [
        "c55ce281-68dc-447e-b2a4-f413a94f73ba",
        "eCVc9y3T6D2L",
        "bf3df4cd-005e-464b-9310-a447683b6c8f",
        "870f0977-b5aa-4508-8e25-4eaa8bf5cf12",
        "527bba5d-b313-4a44-8164-83b527a2a5c1",
        "e1fd6307-f7d9-4c5e-8f7f-e3669d4239ec",
        "19223e02-49db-4781-8681-885d9a2177c8"
      ]
    },
    "gpuClass": "standard",
    "kernelspec": {
      "display_name": "Python 3 (ipykernel)",
      "language": "python",
      "name": "python3"
    },
    "language_info": {
      "codemirror_mode": {
        "name": "ipython",
        "version": 3
      },
      "file_extension": ".py",
      "mimetype": "text/x-python",
      "name": "python",
      "nbconvert_exporter": "python",
      "pygments_lexer": "ipython3",
      "version": "3.10.2"
    }
  },
  "nbformat": 4,
  "nbformat_minor": 5
}